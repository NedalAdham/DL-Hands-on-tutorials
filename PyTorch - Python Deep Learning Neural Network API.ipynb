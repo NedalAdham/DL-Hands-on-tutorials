{
 "cells": [
  {
   "cell_type": "markdown",
   "metadata": {},
   "source": [
    "### verify install"
   ]
  },
  {
   "cell_type": "code",
   "execution_count": 610,
   "metadata": {},
   "outputs": [],
   "source": [
    "import torch\n",
    "import torchvision\n",
    "import numpy as np\n",
    "import math\n",
    "import matplotlib.pyplot as plt\n",
    "import torch.nn as nn\n",
    "import torch.optim as optim\n",
    "import torch .nn.functional as F\n",
    "torch .set_printoptions(linewidth = 120)\n",
    "torch . set_grad_enabled (True)\n",
    "import torchvision.transforms as transforms\n",
    "from torch.utils.data import DataLoader\n",
    "from torch.utils.tensorboard import SummaryWriter\n",
    "from IPython.display import display, clear_output\n",
    "import pandas as pd\n",
    "import time\n",
    "import json\n",
    "\n",
    "from itertools import product\n",
    "from collections import namedtuple\n",
    "from collections import OrderedDict\n",
    "from sklearn.metrics import confusion_matrix ,plot_confusion_matrix\n",
    "#from resources.plotcm import plot_confusion_matrix\n",
    "import seaborn as sns\n",
    "from itertools import product\n",
    "from collections import OrderedDict, namedtuple"
   ]
  },
  {
   "cell_type": "code",
   "execution_count": 4,
   "metadata": {
    "scrolled": true
   },
   "outputs": [
    {
     "name": "stdout",
     "output_type": "stream",
     "text": [
      "1.11.0\n"
     ]
    }
   ],
   "source": [
    "print (torch.__version__)"
   ]
  },
  {
   "cell_type": "code",
   "execution_count": 5,
   "metadata": {
    "scrolled": true
   },
   "outputs": [
    {
     "name": "stderr",
     "output_type": "stream",
     "text": [
      "C:\\Users\\EGYPT\\anaconda3\\lib\\site-packages\\torch\\cuda\\__init__.py:82: UserWarning: CUDA initialization: CUDA driver initialization failed, you might not have a CUDA gpu. (Triggered internally at  C:\\cb\\pytorch_1000000000000\\work\\c10\\cuda\\CUDAFunctions.cpp:112.)\n",
      "  return torch._C._cuda_getDeviceCount() > 0\n"
     ]
    },
    {
     "data": {
      "text/plain": [
       "False"
      ]
     },
     "execution_count": 5,
     "metadata": {},
     "output_type": "execute_result"
    }
   ],
   "source": [
    "torch . cuda.is_available()"
   ]
  },
  {
   "cell_type": "code",
   "execution_count": 6,
   "metadata": {},
   "outputs": [
    {
     "data": {
      "text/plain": [
       "'11.3'"
      ]
     },
     "execution_count": 6,
     "metadata": {},
     "output_type": "execute_result"
    }
   ],
   "source": [
    "torch.version.cuda"
   ]
  },
  {
   "cell_type": "markdown",
   "metadata": {},
   "source": [
    "### Rank , axes , shape , tensors"
   ]
  },
  {
   "cell_type": "code",
   "execution_count": 7,
   "metadata": {},
   "outputs": [],
   "source": [
    "#rank => how many indecice required\n",
    "#Axes => lenght\n",
    "#shape => lenght of each axis\n",
    "dd = [\n",
    "    [1,2,3],\n",
    "    [4,5,6],\n",
    "    [7,8,9]\n",
    "]"
   ]
  },
  {
   "cell_type": "code",
   "execution_count": 8,
   "metadata": {},
   "outputs": [
    {
     "data": {
      "text/plain": [
       "[1, 2, 3]"
      ]
     },
     "execution_count": 8,
     "metadata": {},
     "output_type": "execute_result"
    }
   ],
   "source": [
    "dd[0] #list"
   ]
  },
  {
   "cell_type": "code",
   "execution_count": 9,
   "metadata": {},
   "outputs": [
    {
     "data": {
      "text/plain": [
       "2"
      ]
     },
     "execution_count": 9,
     "metadata": {},
     "output_type": "execute_result"
    }
   ],
   "source": [
    "dd[0][1]#scaler"
   ]
  },
  {
   "cell_type": "code",
   "execution_count": 12,
   "metadata": {},
   "outputs": [
    {
     "data": {
      "text/plain": [
       "tensor([[1, 2, 3],\n",
       "        [4, 5, 6],\n",
       "        [7, 8, 9]])"
      ]
     },
     "metadata": {},
     "output_type": "display_data"
    },
    {
     "data": {
      "text/plain": [
       "torch.Size([3, 3])"
      ]
     },
     "metadata": {},
     "output_type": "display_data"
    }
   ],
   "source": [
    "t = torch . tensor(dd)\n",
    "display (t , t.shape)"
   ]
  },
  {
   "cell_type": "code",
   "execution_count": 13,
   "metadata": {},
   "outputs": [
    {
     "data": {
      "text/plain": [
       "tensor([[1, 2, 3, 4, 5, 6, 7, 8, 9]])"
      ]
     },
     "execution_count": 13,
     "metadata": {},
     "output_type": "execute_result"
    }
   ],
   "source": [
    "t.reshape(1,9)"
   ]
  },
  {
   "cell_type": "code",
   "execution_count": 15,
   "metadata": {},
   "outputs": [
    {
     "data": {
      "text/plain": [
       "torch.float32"
      ]
     },
     "metadata": {},
     "output_type": "display_data"
    },
    {
     "data": {
      "text/plain": [
       "device(type='cpu')"
      ]
     },
     "metadata": {},
     "output_type": "display_data"
    },
    {
     "data": {
      "text/plain": [
       "torch.strided"
      ]
     },
     "metadata": {},
     "output_type": "display_data"
    }
   ],
   "source": [
    "d = torch.Tensor()\n",
    "display (d.dtype , d.device , d.layout)\n",
    "# stride => how layed in memo\n"
   ]
  },
  {
   "cell_type": "code",
   "execution_count": 20,
   "metadata": {},
   "outputs": [
    {
     "data": {
      "text/plain": [
       "tensor([1., 2., 3.])"
      ]
     },
     "metadata": {},
     "output_type": "display_data"
    },
    {
     "data": {
      "text/plain": [
       "tensor([1, 2, 3], dtype=torch.int32)"
      ]
     },
     "metadata": {},
     "output_type": "display_data"
    },
    {
     "data": {
      "text/plain": [
       "tensor([1, 2, 3], dtype=torch.int32)"
      ]
     },
     "metadata": {},
     "output_type": "display_data"
    },
    {
     "data": {
      "text/plain": [
       "tensor([1, 2, 3], dtype=torch.int32)"
      ]
     },
     "metadata": {},
     "output_type": "display_data"
    }
   ],
   "source": [
    "data = np.array([1,2,3])\n",
    "display (torch . Tensor(data),\n",
    "        torch . tensor(data),\n",
    "        torch . as_tensor(data),\n",
    "         torch .from_numpy(data))"
   ]
  },
  {
   "cell_type": "code",
   "execution_count": 21,
   "metadata": {},
   "outputs": [
    {
     "data": {
      "text/plain": [
       "tensor([[1., 0.],\n",
       "        [0., 1.]])"
      ]
     },
     "metadata": {},
     "output_type": "display_data"
    },
    {
     "data": {
      "text/plain": [
       "tensor([[1., 1.],\n",
       "        [1., 1.]])"
      ]
     },
     "metadata": {},
     "output_type": "display_data"
    },
    {
     "data": {
      "text/plain": [
       "tensor([[0.1014, 0.9738],\n",
       "        [0.3181, 0.0039]])"
      ]
     },
     "metadata": {},
     "output_type": "display_data"
    }
   ],
   "source": [
    "display (torch.eye(2),\n",
    "        torch . ones(2,2),\n",
    "        torch . rand (2,2))"
   ]
  },
  {
   "cell_type": "code",
   "execution_count": 23,
   "metadata": {},
   "outputs": [],
   "source": [
    "t1=torch . Tensor(data)#constructor\n",
    "t2=torch . tensor(data)#factory ***\n",
    "t3=torch . as_tensor(data)#factory *** \n",
    "t4=torch .from_numpy(data)#factory"
   ]
  },
  {
   "cell_type": "code",
   "execution_count": 24,
   "metadata": {},
   "outputs": [],
   "source": [
    "data [0] = 0\n",
    "data [1] = 0\n",
    "data [2] = 0"
   ]
  },
  {
   "cell_type": "code",
   "execution_count": 25,
   "metadata": {},
   "outputs": [
    {
     "data": {
      "text/plain": [
       "tensor([1., 2., 3.])"
      ]
     },
     "metadata": {},
     "output_type": "display_data"
    },
    {
     "data": {
      "text/plain": [
       "tensor([1, 2, 3], dtype=torch.int32)"
      ]
     },
     "metadata": {},
     "output_type": "display_data"
    }
   ],
   "source": [
    "display (t1,t2)"
   ]
  },
  {
   "cell_type": "code",
   "execution_count": 26,
   "metadata": {},
   "outputs": [
    {
     "data": {
      "text/plain": [
       "tensor([0, 0, 0], dtype=torch.int32)"
      ]
     },
     "metadata": {},
     "output_type": "display_data"
    },
    {
     "data": {
      "text/plain": [
       "tensor([0, 0, 0], dtype=torch.int32)"
      ]
     },
     "metadata": {},
     "output_type": "display_data"
    }
   ],
   "source": [
    "display (t3,t4)"
   ]
  },
  {
   "cell_type": "code",
   "execution_count": 35,
   "metadata": {},
   "outputs": [],
   "source": [
    "dd =torch.tensor( [\n",
    "    [1,2,3],\n",
    "    [4,5,6],\n",
    "    [7,8,9],\n",
    "    [10,11,12]\n",
    "], dtype = torch.float32)"
   ]
  },
  {
   "cell_type": "code",
   "execution_count": 36,
   "metadata": {},
   "outputs": [
    {
     "data": {
      "text/plain": [
       "torch.Size([4, 3])"
      ]
     },
     "execution_count": 36,
     "metadata": {},
     "output_type": "execute_result"
    }
   ],
   "source": [
    "dd.shape"
   ]
  },
  {
   "cell_type": "code",
   "execution_count": 37,
   "metadata": {},
   "outputs": [
    {
     "data": {
      "text/plain": [
       "2"
      ]
     },
     "execution_count": 37,
     "metadata": {},
     "output_type": "execute_result"
    }
   ],
   "source": [
    "axis = len (dd.shape)\n",
    "axis"
   ]
  },
  {
   "cell_type": "code",
   "execution_count": 38,
   "metadata": {},
   "outputs": [
    {
     "data": {
      "text/plain": [
       "12"
      ]
     },
     "execution_count": 38,
     "metadata": {},
     "output_type": "execute_result"
    }
   ],
   "source": [
    "dd.numel()"
   ]
  },
  {
   "cell_type": "code",
   "execution_count": 40,
   "metadata": {},
   "outputs": [
    {
     "name": "stdout",
     "output_type": "stream",
     "text": [
      "tensor([[ 1.,  2.,  3.,  4.,  5.,  6.,  7.,  8.,  9., 10., 11., 12.]])\n",
      "torch.Size([1, 12])\n"
     ]
    }
   ],
   "source": [
    "print (dd. reshape(1,12 ))\n",
    "print (dd.reshape(1,12).shape)"
   ]
  },
  {
   "cell_type": "code",
   "execution_count": 43,
   "metadata": {},
   "outputs": [
    {
     "name": "stdout",
     "output_type": "stream",
     "text": [
      "tensor([ 1.,  2.,  3.,  4.,  5.,  6.,  7.,  8.,  9., 10., 11., 12.])\n",
      "torch.Size([12])\n"
     ]
    }
   ],
   "source": [
    "#squeez to remove rank \n",
    "print (dd. reshape(1,12).squeeze())\n",
    "print (dd.reshape(1,12).squeeze().shape)"
   ]
  },
  {
   "cell_type": "code",
   "execution_count": 44,
   "metadata": {},
   "outputs": [],
   "source": [
    "def flatten (t) :\n",
    "    t = t.reshape(1,-1)\n",
    "    t = t.squeeze()\n",
    "    return t"
   ]
  },
  {
   "cell_type": "code",
   "execution_count": 46,
   "metadata": {},
   "outputs": [
    {
     "data": {
      "text/plain": [
       "tensor([ 1.,  2.,  3.,  4.,  5.,  6.,  7.,  8.,  9., 10., 11., 12.])"
      ]
     },
     "execution_count": 46,
     "metadata": {},
     "output_type": "execute_result"
    }
   ],
   "source": [
    "flatten (dd)"
   ]
  },
  {
   "cell_type": "markdown",
   "metadata": {},
   "source": [
    "## CNN Flatten Operation"
   ]
  },
  {
   "cell_type": "code",
   "execution_count": 50,
   "metadata": {},
   "outputs": [],
   "source": [
    "t1 = torch.tensor ([[1,1,1,1],[1,1,1,1],[1,1,1,1],[1,1,1,1],])\n",
    "t2 = torch .tensor ([\n",
    "    [2,2,2,2],[2,2,2,2],[2,2,2,2],[2,2,2,2]\n",
    "])\n",
    "t3 = torch . tensor ([[3,3,3,3],[3,3,3,3],[3,3,3,3],[3,3,3,3]])"
   ]
  },
  {
   "cell_type": "code",
   "execution_count": 53,
   "metadata": {},
   "outputs": [
    {
     "data": {
      "text/plain": [
       "torch.Size([3, 4, 4])"
      ]
     },
     "execution_count": 53,
     "metadata": {},
     "output_type": "execute_result"
    }
   ],
   "source": [
    "t= torch.stack ((t1,t2,t3))\n",
    "t.shape"
   ]
  },
  {
   "cell_type": "code",
   "execution_count": 54,
   "metadata": {},
   "outputs": [
    {
     "data": {
      "text/plain": [
       "tensor([[[1, 1, 1, 1],\n",
       "         [1, 1, 1, 1],\n",
       "         [1, 1, 1, 1],\n",
       "         [1, 1, 1, 1]],\n",
       "\n",
       "        [[2, 2, 2, 2],\n",
       "         [2, 2, 2, 2],\n",
       "         [2, 2, 2, 2],\n",
       "         [2, 2, 2, 2]],\n",
       "\n",
       "        [[3, 3, 3, 3],\n",
       "         [3, 3, 3, 3],\n",
       "         [3, 3, 3, 3],\n",
       "         [3, 3, 3, 3]]])"
      ]
     },
     "execution_count": 54,
     "metadata": {},
     "output_type": "execute_result"
    }
   ],
   "source": [
    "t"
   ]
  },
  {
   "cell_type": "code",
   "execution_count": 55,
   "metadata": {},
   "outputs": [
    {
     "data": {
      "text/plain": [
       "tensor([[[[1, 1, 1, 1],\n",
       "          [1, 1, 1, 1],\n",
       "          [1, 1, 1, 1],\n",
       "          [1, 1, 1, 1]]],\n",
       "\n",
       "\n",
       "        [[[2, 2, 2, 2],\n",
       "          [2, 2, 2, 2],\n",
       "          [2, 2, 2, 2],\n",
       "          [2, 2, 2, 2]]],\n",
       "\n",
       "\n",
       "        [[[3, 3, 3, 3],\n",
       "          [3, 3, 3, 3],\n",
       "          [3, 3, 3, 3],\n",
       "          [3, 3, 3, 3]]]])"
      ]
     },
     "execution_count": 55,
     "metadata": {},
     "output_type": "execute_result"
    }
   ],
   "source": [
    "t=t.reshape(3,1,4,4)\n",
    "t"
   ]
  },
  {
   "cell_type": "code",
   "execution_count": 56,
   "metadata": {},
   "outputs": [
    {
     "data": {
      "text/plain": [
       "tensor([[[1, 1, 1, 1],\n",
       "         [1, 1, 1, 1],\n",
       "         [1, 1, 1, 1],\n",
       "         [1, 1, 1, 1]]])"
      ]
     },
     "metadata": {},
     "output_type": "display_data"
    },
    {
     "data": {
      "text/plain": [
       "tensor([[1, 1, 1, 1],\n",
       "        [1, 1, 1, 1],\n",
       "        [1, 1, 1, 1],\n",
       "        [1, 1, 1, 1]])"
      ]
     },
     "metadata": {},
     "output_type": "display_data"
    },
    {
     "data": {
      "text/plain": [
       "tensor([1, 1, 1, 1])"
      ]
     },
     "metadata": {},
     "output_type": "display_data"
    },
    {
     "data": {
      "text/plain": [
       "tensor(1)"
      ]
     },
     "metadata": {},
     "output_type": "display_data"
    }
   ],
   "source": [
    "display (\n",
    "t[0],t[0][0] , t[0][0][0] ,\n",
    "    t[0][0][0][0] # first pixil value in first row in first color channel in first image )"
   ]
  },
  {
   "cell_type": "code",
   "execution_count": 59,
   "metadata": {},
   "outputs": [
    {
     "data": {
      "text/plain": [
       "torch.Size([3, 16])"
      ]
     },
     "execution_count": 59,
     "metadata": {},
     "output_type": "execute_result"
    }
   ],
   "source": [
    "t.flatten(start_dim = 1).shape #1 is second axis  (color channel)"
   ]
  },
  {
   "cell_type": "code",
   "execution_count": 60,
   "metadata": {},
   "outputs": [
    {
     "data": {
      "text/plain": [
       "tensor([[1, 1, 1, 1, 1, 1, 1, 1, 1, 1, 1, 1, 1, 1, 1, 1],\n",
       "        [2, 2, 2, 2, 2, 2, 2, 2, 2, 2, 2, 2, 2, 2, 2, 2],\n",
       "        [3, 3, 3, 3, 3, 3, 3, 3, 3, 3, 3, 3, 3, 3, 3, 3]])"
      ]
     },
     "execution_count": 60,
     "metadata": {},
     "output_type": "execute_result"
    }
   ],
   "source": [
    "t.flatten (start_dim = 1)"
   ]
  },
  {
   "cell_type": "markdown",
   "metadata": {},
   "source": [
    " ## element wise tensor operation"
   ]
  },
  {
   "cell_type": "code",
   "execution_count": 61,
   "metadata": {},
   "outputs": [],
   "source": [
    "t1 = torch.tensor([\n",
    "    [1,2],[3,4]\n",
    "] , dtype = torch .float32)\n",
    "\n",
    "t2 = torch.tensor([\n",
    "    [9,8],[7,6]\n",
    "] , dtype = torch .float32)"
   ]
  },
  {
   "cell_type": "code",
   "execution_count": 62,
   "metadata": {},
   "outputs": [
    {
     "data": {
      "text/plain": [
       "tensor(1.)"
      ]
     },
     "metadata": {},
     "output_type": "display_data"
    },
    {
     "data": {
      "text/plain": [
       "tensor(9.)"
      ]
     },
     "metadata": {},
     "output_type": "display_data"
    }
   ],
   "source": [
    "display (t1[0][0] , t2[0][0])"
   ]
  },
  {
   "cell_type": "code",
   "execution_count": 63,
   "metadata": {},
   "outputs": [
    {
     "data": {
      "text/plain": [
       "tensor([[10., 10.],\n",
       "        [10., 10.]])"
      ]
     },
     "execution_count": 63,
     "metadata": {},
     "output_type": "execute_result"
    }
   ],
   "source": [
    "t1+t2"
   ]
  },
  {
   "cell_type": "code",
   "execution_count": 65,
   "metadata": {},
   "outputs": [],
   "source": [
    "# broadcasting is element wise\n",
    "#lower rank to higher rank\n",
    "#البرودكاستنج حوار كبير سيكا cheack Blog / J lang "
   ]
  },
  {
   "cell_type": "code",
   "execution_count": 71,
   "metadata": {},
   "outputs": [
    {
     "data": {
      "text/plain": [
       "tensor(8.)"
      ]
     },
     "metadata": {},
     "output_type": "display_data"
    },
    {
     "data": {
      "text/plain": [
       "9"
      ]
     },
     "metadata": {},
     "output_type": "display_data"
    },
    {
     "data": {
      "text/plain": [
       "1"
      ]
     },
     "metadata": {},
     "output_type": "display_data"
    },
    {
     "data": {
      "text/plain": [
       "True"
      ]
     },
     "metadata": {},
     "output_type": "display_data"
    },
    {
     "data": {
      "text/plain": [
       "tensor(0.)"
      ]
     },
     "metadata": {},
     "output_type": "display_data"
    },
    {
     "data": {
      "text/plain": [
       "tensor(0.8889)"
      ]
     },
     "metadata": {},
     "output_type": "display_data"
    },
    {
     "data": {
      "text/plain": [
       "tensor(1.1667)"
      ]
     },
     "metadata": {},
     "output_type": "display_data"
    }
   ],
   "source": [
    "t = torch.tensor ([[0,1,0],[2,0,2],[0,3,0]] ,\n",
    "                  dtype = torch.float32)\n",
    "display (t.sum() # reduction operation\n",
    "         , t.numel() ,\n",
    "         t.sum().numel(),\n",
    "        t.sum().numel() < t.numel()\n",
    "        ,\n",
    "        t.prod()\n",
    "        ,t.mean(),\n",
    "        t.std())"
   ]
  },
  {
   "cell_type": "code",
   "execution_count": 72,
   "metadata": {},
   "outputs": [],
   "source": [
    "t1 = torch.tensor ([[1,1,1,1],[2,2,2,2],[3,3,3,3]])"
   ]
  },
  {
   "cell_type": "code",
   "execution_count": 74,
   "metadata": {},
   "outputs": [
    {
     "data": {
      "text/plain": [
       "tensor([6, 6, 6, 6])"
      ]
     },
     "metadata": {},
     "output_type": "display_data"
    },
    {
     "data": {
      "text/plain": [
       "tensor([ 4,  8, 12])"
      ]
     },
     "metadata": {},
     "output_type": "display_data"
    }
   ],
   "source": [
    "display (t1.sum(dim=0)\n",
    "        ,t1.sum (dim =1))"
   ]
  },
  {
   "cell_type": "code",
   "execution_count": 77,
   "metadata": {},
   "outputs": [
    {
     "data": {
      "text/plain": [
       "tensor([1, 1, 1, 1])"
      ]
     },
     "metadata": {},
     "output_type": "display_data"
    },
    {
     "data": {
      "text/plain": [
       "tensor([2, 2, 2, 2])"
      ]
     },
     "metadata": {},
     "output_type": "display_data"
    },
    {
     "data": {
      "text/plain": [
       "tensor([3, 3, 3, 3])"
      ]
     },
     "metadata": {},
     "output_type": "display_data"
    },
    {
     "data": {
      "text/plain": [
       "tensor([6, 6, 6, 6])"
      ]
     },
     "metadata": {},
     "output_type": "display_data"
    },
    {
     "data": {
      "text/plain": [
       "tensor([6, 6, 6, 6])"
      ]
     },
     "metadata": {},
     "output_type": "display_data"
    }
   ],
   "source": [
    "display (t1[0] , t1[1] ,t1[2] ,t1[0] +t1[1]+t1[2] ,t1.sum(dim=0))"
   ]
  },
  {
   "cell_type": "code",
   "execution_count": 79,
   "metadata": {},
   "outputs": [
    {
     "data": {
      "text/plain": [
       "tensor(4)"
      ]
     },
     "metadata": {},
     "output_type": "display_data"
    },
    {
     "data": {
      "text/plain": [
       "tensor(8)"
      ]
     },
     "metadata": {},
     "output_type": "display_data"
    },
    {
     "data": {
      "text/plain": [
       "tensor(12)"
      ]
     },
     "metadata": {},
     "output_type": "display_data"
    },
    {
     "data": {
      "text/plain": [
       "tensor([ 4,  8, 12])"
      ]
     },
     "metadata": {},
     "output_type": "display_data"
    }
   ],
   "source": [
    "display (t1[0].sum() , t1[1].sum() ,t1[2].sum() ,t1.sum(dim=1))"
   ]
  },
  {
   "cell_type": "code",
   "execution_count": 83,
   "metadata": {},
   "outputs": [],
   "source": [
    "t = torch.tensor ([[1,1,1,1],[2,2,2,2],[3,3,3,5]] ,dtype = torch.float32)"
   ]
  },
  {
   "cell_type": "code",
   "execution_count": 84,
   "metadata": {},
   "outputs": [
    {
     "data": {
      "text/plain": [
       "tensor(5.)"
      ]
     },
     "metadata": {},
     "output_type": "display_data"
    },
    {
     "data": {
      "text/plain": [
       "tensor(11)"
      ]
     },
     "metadata": {},
     "output_type": "display_data"
    },
    {
     "data": {
      "text/plain": [
       "tensor([1., 1., 1., 1., 2., 2., 2., 2., 3., 3., 3., 5.])"
      ]
     },
     "metadata": {},
     "output_type": "display_data"
    }
   ],
   "source": [
    "display (t.max(),t.argmax(),t.flatten())"
   ]
  },
  {
   "cell_type": "code",
   "execution_count": 88,
   "metadata": {},
   "outputs": [
    {
     "data": {
      "text/plain": [
       "2.1666667461395264"
      ]
     },
     "metadata": {},
     "output_type": "display_data"
    },
    {
     "data": {
      "text/plain": [
       "tensor(2.1667)"
      ]
     },
     "metadata": {},
     "output_type": "display_data"
    }
   ],
   "source": [
    "display(t.mean().item() ,t.mean())"
   ]
  },
  {
   "cell_type": "markdown",
   "metadata": {},
   "source": [
    "# Fashion-MNSIT"
   ]
  },
  {
   "cell_type": "code",
   "execution_count": 90,
   "metadata": {},
   "outputs": [
    {
     "name": "stdout",
     "output_type": "stream",
     "text": [
      "Downloading http://fashion-mnist.s3-website.eu-central-1.amazonaws.com/train-images-idx3-ubyte.gz\n",
      "Downloading http://fashion-mnist.s3-website.eu-central-1.amazonaws.com/train-images-idx3-ubyte.gz to ./data/FashionMNIST\\FashionMNIST\\raw\\train-images-idx3-ubyte.gz\n"
     ]
    },
    {
     "data": {
      "application/vnd.jupyter.widget-view+json": {
       "model_id": "a90dbfb415324479b70f55849af41272",
       "version_major": 2,
       "version_minor": 0
      },
      "text/plain": [
       "HBox(children=(FloatProgress(value=0.0, max=26421880.0), HTML(value='')))"
      ]
     },
     "metadata": {},
     "output_type": "display_data"
    },
    {
     "name": "stdout",
     "output_type": "stream",
     "text": [
      "\n",
      "Extracting ./data/FashionMNIST\\FashionMNIST\\raw\\train-images-idx3-ubyte.gz to ./data/FashionMNIST\\FashionMNIST\\raw\n",
      "\n",
      "Downloading http://fashion-mnist.s3-website.eu-central-1.amazonaws.com/train-labels-idx1-ubyte.gz\n",
      "Downloading http://fashion-mnist.s3-website.eu-central-1.amazonaws.com/train-labels-idx1-ubyte.gz to ./data/FashionMNIST\\FashionMNIST\\raw\\train-labels-idx1-ubyte.gz\n"
     ]
    },
    {
     "data": {
      "application/vnd.jupyter.widget-view+json": {
       "model_id": "374e6aadef854ca68cdcfbe5b763fd35",
       "version_major": 2,
       "version_minor": 0
      },
      "text/plain": [
       "HBox(children=(FloatProgress(value=0.0, max=29515.0), HTML(value='')))"
      ]
     },
     "metadata": {},
     "output_type": "display_data"
    },
    {
     "name": "stdout",
     "output_type": "stream",
     "text": [
      "\n",
      "Extracting ./data/FashionMNIST\\FashionMNIST\\raw\\train-labels-idx1-ubyte.gz to ./data/FashionMNIST\\FashionMNIST\\raw\n",
      "\n",
      "Downloading http://fashion-mnist.s3-website.eu-central-1.amazonaws.com/t10k-images-idx3-ubyte.gz\n",
      "Downloading http://fashion-mnist.s3-website.eu-central-1.amazonaws.com/t10k-images-idx3-ubyte.gz to ./data/FashionMNIST\\FashionMNIST\\raw\\t10k-images-idx3-ubyte.gz\n"
     ]
    },
    {
     "data": {
      "application/vnd.jupyter.widget-view+json": {
       "model_id": "2002ca3187d04515b558c6c7a72bd92c",
       "version_major": 2,
       "version_minor": 0
      },
      "text/plain": [
       "HBox(children=(FloatProgress(value=0.0, max=4422102.0), HTML(value='')))"
      ]
     },
     "metadata": {},
     "output_type": "display_data"
    },
    {
     "name": "stdout",
     "output_type": "stream",
     "text": [
      "\n",
      "Extracting ./data/FashionMNIST\\FashionMNIST\\raw\\t10k-images-idx3-ubyte.gz to ./data/FashionMNIST\\FashionMNIST\\raw\n",
      "\n",
      "Downloading http://fashion-mnist.s3-website.eu-central-1.amazonaws.com/t10k-labels-idx1-ubyte.gz\n",
      "Downloading http://fashion-mnist.s3-website.eu-central-1.amazonaws.com/t10k-labels-idx1-ubyte.gz to ./data/FashionMNIST\\FashionMNIST\\raw\\t10k-labels-idx1-ubyte.gz\n"
     ]
    },
    {
     "data": {
      "application/vnd.jupyter.widget-view+json": {
       "model_id": "feb97e59d8b9407daff0c16c18c742dc",
       "version_major": 2,
       "version_minor": 0
      },
      "text/plain": [
       "HBox(children=(FloatProgress(value=0.0, max=5148.0), HTML(value='')))"
      ]
     },
     "metadata": {},
     "output_type": "display_data"
    },
    {
     "name": "stdout",
     "output_type": "stream",
     "text": [
      "\n",
      "Extracting ./data/FashionMNIST\\FashionMNIST\\raw\\t10k-labels-idx1-ubyte.gz to ./data/FashionMNIST\\FashionMNIST\\raw\n",
      "\n"
     ]
    }
   ],
   "source": [
    "train_set = torchvision.datasets.FashionMNIST(\n",
    "root = './data/FashionMNIST', #Extract\n",
    "train = True,\n",
    "download = True,\n",
    "transform=transforms.Compose([transforms.ToTensor()]))#Transform"
   ]
  },
  {
   "cell_type": "code",
   "execution_count": 92,
   "metadata": {},
   "outputs": [],
   "source": [
    "train_loader = torch.utils.data.DataLoader(train_set , batch_size=10)#Load "
   ]
  },
  {
   "cell_type": "code",
   "execution_count": 96,
   "metadata": {
    "scrolled": true
   },
   "outputs": [
    {
     "data": {
      "text/plain": [
       "(60000,\n",
       " tensor([9, 0, 0,  ..., 3, 0, 5]),\n",
       " tensor([6000, 6000, 6000, 6000, 6000, 6000, 6000, 6000, 6000, 6000]))"
      ]
     },
     "execution_count": 96,
     "metadata": {},
     "output_type": "execute_result"
    }
   ],
   "source": [
    "display \n",
    "(len (train_set),\n",
    " \n",
    " train_set.train_labels,\n",
    " \n",
    " train_set.train_labels.bincount() #Frequancy distrubution for each set\n",
    ")#oversampling problem (classe unbalanced) => sol "
   ]
  },
  {
   "cell_type": "markdown",
   "metadata": {},
   "source": [
    "#### Sample"
   ]
  },
  {
   "cell_type": "code",
   "execution_count": 98,
   "metadata": {},
   "outputs": [],
   "source": [
    "sample = next(iter(train_set))"
   ]
  },
  {
   "cell_type": "code",
   "execution_count": 100,
   "metadata": {},
   "outputs": [
    {
     "data": {
      "text/plain": [
       "(2, tuple)"
      ]
     },
     "execution_count": 100,
     "metadata": {},
     "output_type": "execute_result"
    }
   ],
   "source": [
    "display\n",
    "(len(sample)  #image - label\n",
    "  ,type (sample)\n",
    ")"
   ]
  },
  {
   "cell_type": "code",
   "execution_count": 105,
   "metadata": {},
   "outputs": [],
   "source": [
    "image , label  = sample"
   ]
  },
  {
   "cell_type": "code",
   "execution_count": 108,
   "metadata": {},
   "outputs": [
    {
     "data": {
      "text/plain": [
       "(torch.Size([1, 28, 28]), 9)"
      ]
     },
     "execution_count": 108,
     "metadata": {},
     "output_type": "execute_result"
    }
   ],
   "source": [
    "display \n",
    "(image.shape,\n",
    " label\n",
    ")"
   ]
  },
  {
   "cell_type": "code",
   "execution_count": 109,
   "metadata": {},
   "outputs": [
    {
     "name": "stdout",
     "output_type": "stream",
     "text": [
      "label : 9\n"
     ]
    },
    {
     "data": {
      "image/png": "[encoded data removed]",
      "text/plain": [
       "<Figure size 432x288 with 1 Axes>"
      ]
     },
     "metadata": {
      "needs_background": "light"
     },
     "output_type": "display_data"
    }
   ],
   "source": [
    "plt . imshow (image .squeeze() , cmap = 'gray')\n",
    "print ('label :' , label)"
   ]
  },
  {
   "cell_type": "markdown",
   "metadata": {},
   "source": [
    "#### Batch"
   ]
  },
  {
   "cell_type": "code",
   "execution_count": 113,
   "metadata": {},
   "outputs": [],
   "source": [
    "batch = next (iter (train_loader)) # loader is 10 batches \n"
   ]
  },
  {
   "cell_type": "code",
   "execution_count": 116,
   "metadata": {},
   "outputs": [
    {
     "data": {
      "text/plain": [
       "(2, list)"
      ]
     },
     "execution_count": 116,
     "metadata": {},
     "output_type": "execute_result"
    }
   ],
   "source": [
    "display\n",
    "(len (batch),\n",
    " type(batch)\n",
    ")"
   ]
  },
  {
   "cell_type": "code",
   "execution_count": 115,
   "metadata": {},
   "outputs": [],
   "source": [
    "images , labels = batch"
   ]
  },
  {
   "cell_type": "code",
   "execution_count": 118,
   "metadata": {},
   "outputs": [],
   "source": [
    "?? display"
   ]
  },
  {
   "cell_type": "code",
   "execution_count": 119,
   "metadata": {},
   "outputs": [
    {
     "data": {
      "text/plain": [
       "(torch.Size([10, 1, 28, 28]), torch.Size([10]))"
      ]
     },
     "execution_count": 119,
     "metadata": {},
     "output_type": "execute_result"
    }
   ],
   "source": [
    " display \n",
    "(images.shape,\n",
    " labels.shape\n",
    ")"
   ]
  },
  {
   "cell_type": "code",
   "execution_count": 135,
   "metadata": {},
   "outputs": [
    {
     "name": "stdout",
     "output_type": "stream",
     "text": [
      "labels : tensor([9, 0, 0, 3, 0, 2, 7, 2, 5, 5])\n"
     ]
    },
    {
     "data": {
      "image/png": "[encoded data removed]",
      "text/plain": [
       "<Figure size 1440x1440 with 1 Axes>"
      ]
     },
     "metadata": {
      "needs_background": "light"
     },
     "output_type": "display_data"
    }
   ],
   "source": [
    "grid = torchvision.utils.make_grid(images , 10)\n",
    "\n",
    "plt . figure (figsize=(20 , 20))\n",
    "plt . imshow (np.transpose(grid , (1,2,0)))\n",
    "print ('labels :' , labels)"
   ]
  },
  {
   "cell_type": "markdown",
   "metadata": {},
   "source": [
    "## Build PyTorch CNN "
   ]
  },
  {
   "cell_type": "code",
   "execution_count": 138,
   "metadata": {},
   "outputs": [],
   "source": [
    "class lol :\n",
    "    def __init__ (self , name):\n",
    "        self.name = name\n",
    "        \n",
    "    def set_name(self,name):\n",
    "        self.name = name"
   ]
  },
  {
   "cell_type": "code",
   "execution_count": 141,
   "metadata": {},
   "outputs": [
    {
     "name": "stdout",
     "output_type": "stream",
     "text": [
      "deep\n",
      "Abyusif\n"
     ]
    }
   ],
   "source": [
    "lizard = lol('deep')\n",
    "print (lizard . name)\n",
    "lizard.set_name(\"Abyusif\")\n",
    "print (lizard.name)"
   ]
  },
  {
   "cell_type": "markdown",
   "metadata": {},
   "source": [
    "* Extend the nn.Module base class\n",
    "\n",
    "* define layers as class attribtes \n",
    "\n",
    "* implement the forward() method "
   ]
  },
  {
   "cell_type": "code",
   "execution_count": 183,
   "metadata": {},
   "outputs": [],
   "source": [
    "class NNetwork :\n",
    "    def __init__(self):\n",
    "        self.layer = None\n",
    "    def forward (self , t) :\n",
    "        t = self.layer(t)\n",
    "        return t"
   ]
  },
  {
   "cell_type": "code",
   "execution_count": 216,
   "metadata": {},
   "outputs": [],
   "source": []
  },
  {
   "cell_type": "code",
   "execution_count": null,
   "metadata": {},
   "outputs": [],
   "source": []
  },
  {
   "cell_type": "code",
   "execution_count": 217,
   "metadata": {},
   "outputs": [
    {
     "data": {
      "text/plain": [
       "Network(\n",
       "  (conv1): Conv2d(1, 6, kernel_size=(5, 5), stride=(1, 1))\n",
       "  (conv2): Conv2d(6, 12, kernel_size=(5, 5), stride=(1, 1))\n",
       "  (fc1): Linear(in_features=192, out_features=120, bias=True)\n",
       "  (fc2): Linear(in_features=120, out_features=60, bias=True)\n",
       "  (out): Linear(in_features=60, out_features=10, bias=True)\n",
       ")"
      ]
     },
     "execution_count": 217,
     "metadata": {},
     "output_type": "execute_result"
    }
   ],
   "source": [
    "network = Network()\n",
    "network\n"
   ]
  },
  {
   "cell_type": "code",
   "execution_count": 218,
   "metadata": {},
   "outputs": [
    {
     "data": {
      "text/plain": [
       "Linear(in_features=192, out_features=120, bias=True)"
      ]
     },
     "execution_count": 218,
     "metadata": {},
     "output_type": "execute_result"
    }
   ],
   "source": [
    "network.fc1"
   ]
  },
  {
   "cell_type": "code",
   "execution_count": 219,
   "metadata": {},
   "outputs": [
    {
     "data": {
      "text/plain": [
       "Parameter containing:\n",
       "tensor([[[[-1.2918e-01, -7.9693e-02,  1.9659e-01,  1.6470e-01, -7.4741e-02],\n",
       "          [ 8.4300e-02,  9.4277e-02, -3.7775e-03,  1.6222e-01, -4.5514e-02],\n",
       "          [-1.1312e-01, -5.8000e-02, -9.9779e-02,  5.0724e-02, -9.3916e-02],\n",
       "          [-9.5102e-03, -6.2357e-02, -1.3922e-01, -7.7774e-02, -9.7812e-03],\n",
       "          [ 1.6447e-01, -1.2118e-01,  1.0276e-01, -1.5360e-01, -4.4578e-02]]],\n",
       "\n",
       "\n",
       "        [[[ 7.6922e-02, -1.4352e-01, -1.2363e-01,  3.9324e-02, -1.6756e-01],\n",
       "          [ 4.5758e-03, -8.2292e-02, -1.1357e-01, -4.3210e-02,  1.2228e-01],\n",
       "          [-6.2496e-02,  1.3758e-01, -1.0009e-01, -6.3030e-03,  1.9139e-01],\n",
       "          [ 1.5568e-01,  1.0017e-01,  1.2090e-01,  9.0364e-02,  8.1711e-04],\n",
       "          [ 1.1048e-01,  4.6944e-02,  1.5190e-01,  5.4025e-02, -4.4737e-02]]],\n",
       "\n",
       "\n",
       "        [[[ 1.2784e-01, -8.7024e-02,  1.4584e-01,  1.9156e-01, -1.7430e-01],\n",
       "          [ 1.7495e-01,  7.2041e-02,  9.8636e-02, -1.9692e-01,  7.6117e-02],\n",
       "          [-8.3176e-02,  1.1985e-01,  7.1989e-02,  1.1457e-01,  1.4312e-01],\n",
       "          [ 1.5521e-01,  1.9259e-01, -3.0103e-03, -2.5539e-03,  7.3661e-03],\n",
       "          [ 1.5354e-01, -2.1487e-05,  1.6051e-01, -9.1012e-02, -1.2729e-01]]],\n",
       "\n",
       "\n",
       "        [[[ 8.6063e-02,  1.4819e-01,  1.9474e-01, -2.5272e-02, -1.1121e-01],\n",
       "          [ 8.2008e-02, -1.9681e-01, -1.1914e-01, -3.6360e-02,  5.9463e-02],\n",
       "          [ 7.1755e-02,  3.1346e-02, -1.3153e-01,  1.9541e-01, -1.4464e-01],\n",
       "          [ 1.2513e-02,  5.0780e-04,  1.0945e-01, -6.2388e-02, -6.8606e-02],\n",
       "          [-1.2463e-01, -1.6215e-01,  1.2467e-01,  5.4548e-02, -2.1674e-02]]],\n",
       "\n",
       "\n",
       "        [[[-9.0202e-02, -1.0532e-01, -6.9864e-02,  6.9684e-02, -1.7556e-02],\n",
       "          [ 1.5461e-01,  2.5643e-02,  1.6568e-01,  8.9019e-02,  1.5865e-01],\n",
       "          [ 1.0786e-02,  6.9097e-02, -1.8513e-01,  2.7253e-02, -8.5298e-02],\n",
       "          [ 8.2226e-02,  3.5957e-02, -1.0244e-01, -1.7644e-01, -4.7198e-02],\n",
       "          [-1.6364e-01,  7.6465e-02, -4.1694e-02,  1.8365e-01,  2.2399e-02]]],\n",
       "\n",
       "\n",
       "        [[[ 3.1752e-02, -1.2806e-01,  7.4933e-02,  5.4123e-02,  1.9507e-01],\n",
       "          [ 2.7936e-03,  1.5704e-01, -1.8715e-01,  1.4677e-01, -7.6810e-02],\n",
       "          [-2.0779e-02, -1.4626e-01,  1.5481e-01,  5.6400e-03,  1.7807e-01],\n",
       "          [-9.5135e-02, -1.0965e-01,  1.1745e-01, -1.4573e-01,  5.9411e-02],\n",
       "          [-7.6505e-02,  1.3212e-01, -1.8178e-01, -1.7059e-01, -1.5911e-01]]]], requires_grad=True)"
      ]
     },
     "execution_count": 219,
     "metadata": {},
     "output_type": "execute_result"
    }
   ],
   "source": [
    "network.conv1.weight"
   ]
  },
  {
   "cell_type": "code",
   "execution_count": 220,
   "metadata": {},
   "outputs": [
    {
     "data": {
      "text/plain": [
       "torch.Size([6, 1, 5, 5])"
      ]
     },
     "execution_count": 220,
     "metadata": {},
     "output_type": "execute_result"
    }
   ],
   "source": [
    "network.conv1.weight.shape"
   ]
  },
  {
   "cell_type": "code",
   "execution_count": 221,
   "metadata": {},
   "outputs": [
    {
     "data": {
      "text/plain": [
       "torch.Size([12, 6, 5, 5])"
      ]
     },
     "execution_count": 221,
     "metadata": {},
     "output_type": "execute_result"
    }
   ],
   "source": [
    "network.conv2.weight.shape"
   ]
  },
  {
   "cell_type": "code",
   "execution_count": 222,
   "metadata": {},
   "outputs": [
    {
     "data": {
      "text/plain": [
       "torch.Size([120, 192])"
      ]
     },
     "execution_count": 222,
     "metadata": {},
     "output_type": "execute_result"
    }
   ],
   "source": [
    "network.fc1.weight.shape"
   ]
  },
  {
   "cell_type": "code",
   "execution_count": 223,
   "metadata": {},
   "outputs": [
    {
     "name": "stdout",
     "output_type": "stream",
     "text": [
      "conv1.weight \t\t torch.Size([6, 1, 5, 5])\n",
      "conv1.bias \t\t torch.Size([6])\n",
      "conv2.weight \t\t torch.Size([12, 6, 5, 5])\n",
      "conv2.bias \t\t torch.Size([12])\n",
      "fc1.weight \t\t torch.Size([120, 192])\n",
      "fc1.bias \t\t torch.Size([120])\n",
      "fc2.weight \t\t torch.Size([60, 120])\n",
      "fc2.bias \t\t torch.Size([60])\n",
      "out.weight \t\t torch.Size([10, 60])\n",
      "out.bias \t\t torch.Size([10])\n"
     ]
    }
   ],
   "source": [
    "for name , param in network.named_parameters():\n",
    "    print(name , '\\t\\t' , param.shape)"
   ]
  },
  {
   "cell_type": "code",
   "execution_count": 224,
   "metadata": {},
   "outputs": [],
   "source": [
    "in_feature = torch.tensor([1,2,3,4] , dtype=torch.float32)"
   ]
  },
  {
   "cell_type": "code",
   "execution_count": 225,
   "metadata": {},
   "outputs": [],
   "source": [
    "weight_matrix =torch.tensor([\n",
    "    [1,2,3,4],\n",
    "    [2,3,4,5],\n",
    "    [3,4,5,6]\n",
    "] , dtype = torch .float32)\n"
   ]
  },
  {
   "cell_type": "code",
   "execution_count": 226,
   "metadata": {},
   "outputs": [
    {
     "data": {
      "text/plain": [
       "tensor([30., 40., 50.])"
      ]
     },
     "execution_count": 226,
     "metadata": {},
     "output_type": "execute_result"
    }
   ],
   "source": [
    "weight_matrix . matmul (in_feature) #map from 4D , 3D  in => out"
   ]
  },
  {
   "cell_type": "code",
   "execution_count": 227,
   "metadata": {},
   "outputs": [
    {
     "data": {
      "text/plain": [
       "tensor([[1., 2., 3., 4.],\n",
       "        [2., 3., 4., 5.],\n",
       "        [3., 4., 5., 6.]])"
      ]
     },
     "execution_count": 227,
     "metadata": {},
     "output_type": "execute_result"
    }
   ],
   "source": [
    "weight_matrix"
   ]
  },
  {
   "cell_type": "code",
   "execution_count": 228,
   "metadata": {},
   "outputs": [],
   "source": [
    "fc = nn.Linear (in_features=4 , out_features=3) #3*4 weight matrix"
   ]
  },
  {
   "cell_type": "code",
   "execution_count": 229,
   "metadata": {},
   "outputs": [],
   "source": [
    "fc . weight = nn.Parameter (weight_matrix)"
   ]
  },
  {
   "cell_type": "code",
   "execution_count": 230,
   "metadata": {},
   "outputs": [
    {
     "data": {
      "text/plain": [
       "tensor([30.2495, 40.1789, 50.4786])"
      ]
     },
     "execution_count": 230,
     "metadata": {},
     "output_type": "execute_result"
    }
   ],
   "source": [
    "fc(in_feature) #randvalues  +- bais , Bais = False"
   ]
  },
  {
   "cell_type": "code",
   "execution_count": 231,
   "metadata": {
    "scrolled": true
   },
   "outputs": [
    {
     "name": "stdout",
     "output_type": "stream",
     "text": [
      "tensor([ 1.0012, -0.4372, -2.4151])\n"
     ]
    }
   ],
   "source": [
    "fc = nn.Linear(in_features=4 , out_features=3)\n",
    "t = torch . tensor([1,2,3,4],dtype = torch.float32)\n",
    "output = fc(t)\n",
    "print (output)"
   ]
  },
  {
   "cell_type": "markdown",
   "metadata": {},
   "source": [
    " ### Pass Image Batch,sample to PyTorch CNN"
   ]
  },
  {
   "cell_type": "code",
   "execution_count": 232,
   "metadata": {},
   "outputs": [
    {
     "data": {
      "text/plain": [
       "<torch.autograd.grad_mode.set_grad_enabled at 0x1cc01992688>"
      ]
     },
     "execution_count": 232,
     "metadata": {},
     "output_type": "execute_result"
    }
   ],
   "source": [
    "torch . set_grad_enabled(False)"
   ]
  },
  {
   "cell_type": "code",
   "execution_count": 358,
   "metadata": {},
   "outputs": [],
   "source": [
    "#Extend the nn.Module base class\n",
    "class Network (nn.Module):\n",
    "    def __init__ (self):\n",
    "        super ().__init__() \n",
    "                                 #colorfeature    #feature maps\n",
    "        self.conv1  = nn.Conv2d(in_channels=1 , out_channels=6, kernel_size=5)#filter\n",
    "        self.conv2 = nn.Conv2d(in_channels=6,out_channels=12,kernel_size=5)\n",
    "        \n",
    "        self.fc1 = nn.Linear(in_features=12*4*4 ,out_features=120)\n",
    "        self.fc2 = nn.Linear(in_features=120,out_features= 60)\n",
    "        self.out = nn.Linear(in_features=60 , out_features=10)\n",
    "                                                #10 prediction\n",
    "        \n",
    "    def forward (self , t ):\n",
    "        \"\"\"\n",
    "        #(1) input layer\n",
    "        t=t\n",
    "        #(2)hidden conv layer\n",
    "        t= self.conv(t)\n",
    "        t=F.relu(t)\n",
    "        t=F.max_pool2d(t,kernal_size=2,stride=2)\n",
    "        \n",
    "        #(3) hidden conv layer\n",
    "        t=self.conv2(t)\n",
    "        t=F.relu(t)\n",
    "        t= F.maxpool2d(t, kernal_size=2,stride=2)\n",
    "        \n",
    "        #(4) hidden layer\n",
    "        t = t.reshape (-1,12*4*4)\n",
    "        t= self.fc1(t)\n",
    "        t=F.relu(t)\n",
    "        \n",
    "        #(5) hidden layer \n",
    "        t = self.fc2(t)\n",
    "        t = F.relu (t)\n",
    "        \n",
    "        #(6) hidden layer \n",
    "        t = self.out(t)\n",
    "        t = F.softmax(t,dim = 1)\n",
    "        \"\"\"\n",
    "        t = F.relu (self . conv1(t))\n",
    "        t = F.max_pool2d (t , kernel_size=2,stride=2)\n",
    "        \n",
    "        t = F.relu (self . conv2(t))\n",
    "        t = F.max_pool2d (t , kernel_size=2,stride=2)\n",
    "        \n",
    "        t = F.relu(self.fc1(t.reshape(-1 , 12 *4* 4)))\n",
    "        t = F.relu(self . fc2(t))\n",
    "        t = self.out(t)\n",
    "        \n",
    "        \n",
    "        \n",
    "        \n",
    "        \n",
    "        return t\n",
    "    \n",
    "    "
   ]
  },
  {
   "cell_type": "code",
   "execution_count": 359,
   "metadata": {},
   "outputs": [],
   "source": [
    "nnetwork =  Network()"
   ]
  },
  {
   "cell_type": "code",
   "execution_count": 360,
   "metadata": {},
   "outputs": [],
   "source": [
    "sample = next(iter(train_set))"
   ]
  },
  {
   "cell_type": "code",
   "execution_count": 361,
   "metadata": {},
   "outputs": [
    {
     "data": {
      "text/plain": [
       "torch.Size([1, 28, 28])"
      ]
     },
     "execution_count": 361,
     "metadata": {},
     "output_type": "execute_result"
    }
   ],
   "source": [
    "image , label = sample \n",
    "image.shape"
   ]
  },
  {
   "cell_type": "code",
   "execution_count": 362,
   "metadata": {},
   "outputs": [
    {
     "data": {
      "text/plain": [
       "torch.Size([1, 1, 28, 28])"
      ]
     },
     "execution_count": 362,
     "metadata": {},
     "output_type": "execute_result"
    }
   ],
   "source": [
    "image . unsqueeze(0).shape "
   ]
  },
  {
   "cell_type": "code",
   "execution_count": 363,
   "metadata": {},
   "outputs": [],
   "source": [
    "pred = nnetwork(image.unsqueeze(0))"
   ]
  },
  {
   "cell_type": "code",
   "execution_count": 364,
   "metadata": {},
   "outputs": [
    {
     "data": {
      "text/plain": [
       "tensor([[ 0.1219, -0.0616, -0.1365,  0.0633,  0.0227, -0.0449,  0.0558,  0.0610, -0.0203, -0.0804]],\n",
       "       grad_fn=<AddmmBackward0>)"
      ]
     },
     "execution_count": 364,
     "metadata": {},
     "output_type": "execute_result"
    }
   ],
   "source": [
    "pred"
   ]
  },
  {
   "cell_type": "code",
   "execution_count": 365,
   "metadata": {},
   "outputs": [
    {
     "data": {
      "text/plain": [
       "9"
      ]
     },
     "execution_count": 365,
     "metadata": {},
     "output_type": "execute_result"
    }
   ],
   "source": [
    "label"
   ]
  },
  {
   "cell_type": "code",
   "execution_count": 366,
   "metadata": {},
   "outputs": [
    {
     "data": {
      "text/plain": [
       "tensor([0])"
      ]
     },
     "execution_count": 366,
     "metadata": {},
     "output_type": "execute_result"
    }
   ],
   "source": [
    "pred.argmax(dim = 1)"
   ]
  },
  {
   "cell_type": "code",
   "execution_count": 367,
   "metadata": {},
   "outputs": [
    {
     "data": {
      "text/plain": [
       "tensor([[0.1129, 0.0939, 0.0872, 0.1064, 0.1022, 0.0955, 0.1056, 0.1062, 0.0979, 0.0922]], grad_fn=<SoftmaxBackward0>)"
      ]
     },
     "execution_count": 367,
     "metadata": {},
     "output_type": "execute_result"
    }
   ],
   "source": [
    " F.softmax(pred , dim = 1)\n",
    "    "
   ]
  },
  {
   "cell_type": "code",
   "execution_count": 368,
   "metadata": {},
   "outputs": [
    {
     "data": {
      "text/plain": [
       "tensor(1.0000, grad_fn=<SumBackward0>)"
      ]
     },
     "execution_count": 368,
     "metadata": {},
     "output_type": "execute_result"
    }
   ],
   "source": [
    "F.softmax (pred , dim=1).sum()"
   ]
  },
  {
   "cell_type": "code",
   "execution_count": 369,
   "metadata": {},
   "outputs": [],
   "source": [
    "train_loader = torch.utils.data.DataLoader(train_set , batch_size=10)#Load "
   ]
  },
  {
   "cell_type": "code",
   "execution_count": 370,
   "metadata": {},
   "outputs": [
    {
     "data": {
      "text/plain": [
       "torch.Size([10, 1, 28, 28])"
      ]
     },
     "metadata": {},
     "output_type": "display_data"
    },
    {
     "data": {
      "text/plain": [
       "torch.Size([10])"
      ]
     },
     "metadata": {},
     "output_type": "display_data"
    }
   ],
   "source": [
    "train_loader = torch.utils.data.DataLoader(train_set , batch_size=10)#Load \n",
    "batch = next(iter(train_loader))\n",
    "images , labels = batch\n",
    "display (images.shape , labels.shape)"
   ]
  },
  {
   "cell_type": "code",
   "execution_count": 371,
   "metadata": {},
   "outputs": [
    {
     "data": {
      "text/plain": [
       "torch.Size([10, 10])"
      ]
     },
     "execution_count": 371,
     "metadata": {},
     "output_type": "execute_result"
    }
   ],
   "source": [
    "preds = nnetwork (images)\n",
    "preds.shape"
   ]
  },
  {
   "cell_type": "code",
   "execution_count": 372,
   "metadata": {},
   "outputs": [
    {
     "data": {
      "text/plain": [
       "tensor([[ 0.1219, -0.0616, -0.1365,  0.0633,  0.0227, -0.0449,  0.0558,  0.0610, -0.0203, -0.0804],\n",
       "        [ 0.1139, -0.0627, -0.1335,  0.0628,  0.0162, -0.0489,  0.0518,  0.0571, -0.0122, -0.0813],\n",
       "        [ 0.1220, -0.0568, -0.1314,  0.0710,  0.0190, -0.0484,  0.0547,  0.0674, -0.0176, -0.0662],\n",
       "        [ 0.1208, -0.0575, -0.1312,  0.0723,  0.0137, -0.0475,  0.0554,  0.0618, -0.0137, -0.0726],\n",
       "        [ 0.1158, -0.0611, -0.1364,  0.0653,  0.0190, -0.0541,  0.0575,  0.0576, -0.0101, -0.0825],\n",
       "        [ 0.1147, -0.0616, -0.1314,  0.0627,  0.0176, -0.0484,  0.0578,  0.0638, -0.0127, -0.0777],\n",
       "        [ 0.1216, -0.0563, -0.1353,  0.0608,  0.0195, -0.0440,  0.0564,  0.0624, -0.0142, -0.0738],\n",
       "        [ 0.1149, -0.0654, -0.1333,  0.0643,  0.0188, -0.0515,  0.0584,  0.0599, -0.0120, -0.0861],\n",
       "        [ 0.1235, -0.0617, -0.1341,  0.0645,  0.0196, -0.0453,  0.0512,  0.0605, -0.0222, -0.0640],\n",
       "        [ 0.1257, -0.0574, -0.1284,  0.0646,  0.0176, -0.0464,  0.0573,  0.0579, -0.0063, -0.0662]],\n",
       "       grad_fn=<AddmmBackward0>)"
      ]
     },
     "execution_count": 372,
     "metadata": {},
     "output_type": "execute_result"
    }
   ],
   "source": [
    "preds"
   ]
  },
  {
   "cell_type": "code",
   "execution_count": 373,
   "metadata": {},
   "outputs": [
    {
     "data": {
      "text/plain": [
       "tensor([0, 0, 0, 0, 0, 0, 0, 0, 0, 0])"
      ]
     },
     "execution_count": 373,
     "metadata": {},
     "output_type": "execute_result"
    }
   ],
   "source": [
    "preds . argmax(dim = 1)"
   ]
  },
  {
   "cell_type": "code",
   "execution_count": 374,
   "metadata": {},
   "outputs": [
    {
     "data": {
      "text/plain": [
       "tensor([9, 0, 0, 3, 0, 2, 7, 2, 5, 5])"
      ]
     },
     "execution_count": 374,
     "metadata": {},
     "output_type": "execute_result"
    }
   ],
   "source": [
    "labels"
   ]
  },
  {
   "cell_type": "code",
   "execution_count": 375,
   "metadata": {},
   "outputs": [
    {
     "data": {
      "text/plain": [
       "tensor([False,  True,  True, False,  True, False, False, False, False, False])"
      ]
     },
     "execution_count": 375,
     "metadata": {},
     "output_type": "execute_result"
    }
   ],
   "source": [
    "preds . argmax(dim = 1) . eq(labels)"
   ]
  },
  {
   "cell_type": "code",
   "execution_count": 376,
   "metadata": {},
   "outputs": [],
   "source": [
    "def get_num_correct (preds , labels):\n",
    "    return preds . argmax(dim = 1) . eq(labels).sum().item()"
   ]
  },
  {
   "cell_type": "code",
   "execution_count": 377,
   "metadata": {},
   "outputs": [
    {
     "data": {
      "text/plain": [
       "3"
      ]
     },
     "execution_count": 377,
     "metadata": {},
     "output_type": "execute_result"
    }
   ],
   "source": [
    "get_num_correct(preds , labels)"
   ]
  },
  {
   "cell_type": "markdown",
   "metadata": {},
   "source": [
    "### CNN Output Size Formula (Square)\n",
    "* Suppose we have an n * n input.\n",
    "* Suppose we have an f * f filter.\n",
    "* Suppose we have a padding of P and a stride of S.\n",
    "\n",
    "        O = (n-f+2p/s) + 1"
   ]
  },
  {
   "cell_type": "markdown",
   "metadata": {},
   "source": [
    "# Trainning "
   ]
  },
  {
   "cell_type": "markdown",
   "metadata": {},
   "source": [
    "* Get batch from the training set.\n",
    "* Pass batch to network.\n",
    "* Calculate the loss (difference between the predicted values and the true values).\n",
    "* Calculate the gradient of the loss function w.r.t the network's weights.\n",
    "* Update the weights using the gradients to reduce the loss.\n",
    "* Repeat steps 1-5 until one epoch is completed.\n",
    "* Repeat steps 1-6 for as many epochs required to reach the minimum loss."
   ]
  },
  {
   "cell_type": "code",
   "execution_count": 403,
   "metadata": {},
   "outputs": [],
   "source": [
    "#Extend the nn.Module base class\n",
    "class Network (nn.Module):\n",
    "    def __init__ (self):\n",
    "        super ().__init__() \n",
    "                                 #colorfeature    #feature maps\n",
    "        self.conv1  = nn.Conv2d(in_channels=1 , out_channels=6, kernel_size=5)#filter\n",
    "        self.conv2 = nn.Conv2d(in_channels=6,out_channels=12,kernel_size=5)\n",
    "        \n",
    "        self.fc1 = nn.Linear(in_features=12*4*4 ,out_features=120)\n",
    "        self.fc2 = nn.Linear(in_features=120,out_features= 60)\n",
    "        self.out = nn.Linear(in_features=60 , out_features=10)\n",
    "                                                #10 prediction\n",
    "        \n",
    "    def forward (self , t ):\n",
    "        \"\"\"\n",
    "        #(1) input layer\n",
    "        t=t\n",
    "        #(2)hidden conv layer\n",
    "        t= self.conv(t)\n",
    "        t=F.relu(t)\n",
    "        t=F.max_pool2d(t,kernal_size=2,stride=2)\n",
    "        \n",
    "        #(3) hidden conv layer\n",
    "        t=self.conv2(t)\n",
    "        t=F.relu(t)\n",
    "        t= F.maxpool2d(t, kernal_size=2,stride=2)\n",
    "        \n",
    "        #(4) hidden layer\n",
    "        t = t.reshape (-1,12*4*4)\n",
    "        t= self.fc1(t)\n",
    "        t=F.relu(t)\n",
    "        \n",
    "        #(5) hidden layer \n",
    "        t = self.fc2(t)\n",
    "        t = F.relu (t)\n",
    "        \n",
    "        #(6) hidden layer \n",
    "        t = self.out(t)\n",
    "        t = F.softmax(t,dim = 1)\n",
    "        \"\"\"\n",
    "        t = F.relu (self . conv1(t))\n",
    "        t = F.max_pool2d (t , kernel_size=2,stride=2)\n",
    "        \n",
    "        t = F.relu (self . conv2(t))\n",
    "        t = F.max_pool2d (t , kernel_size=2,stride=2)\n",
    "        \n",
    "        t = F.relu(self.fc1(t.reshape(-1 , 12 *4* 4)))\n",
    "        t = F.relu(self . fc2(t))\n",
    "        t = self.out(t)\n",
    "     \n",
    "        return t\n",
    "    \n",
    "    "
   ]
  },
  {
   "cell_type": "code",
   "execution_count": 404,
   "metadata": {},
   "outputs": [
    {
     "data": {
      "text/plain": [
       "torch.Size([100, 1, 28, 28])"
      ]
     },
     "metadata": {},
     "output_type": "display_data"
    },
    {
     "data": {
      "text/plain": [
       "torch.Size([100])"
      ]
     },
     "metadata": {},
     "output_type": "display_data"
    }
   ],
   "source": [
    "train_loader = torch.utils.data.DataLoader(train_set , batch_size=100)#Load \n",
    "batch = next(iter(train_loader))\n",
    "images , labels = batch\n",
    "display (images.shape , labels.shape)"
   ]
  },
  {
   "cell_type": "code",
   "execution_count": 405,
   "metadata": {},
   "outputs": [],
   "source": [
    "NNetwork = Network()"
   ]
  },
  {
   "cell_type": "markdown",
   "metadata": {},
   "source": [
    "#### Calculating the loss"
   ]
  },
  {
   "cell_type": "code",
   "execution_count": 406,
   "metadata": {},
   "outputs": [
    {
     "data": {
      "text/plain": [
       "2.3103418350219727"
      ]
     },
     "execution_count": 406,
     "metadata": {},
     "output_type": "execute_result"
    }
   ],
   "source": [
    "preds = NNetwork(images)\n",
    "loss = F.cross_entropy(preds , labels)\n",
    "loss.item()"
   ]
  },
  {
   "cell_type": "markdown",
   "metadata": {},
   "source": [
    "#### Calculating the gradients "
   ]
  },
  {
   "cell_type": "code",
   "execution_count": 407,
   "metadata": {},
   "outputs": [
    {
     "name": "stdout",
     "output_type": "stream",
     "text": [
      "None\n"
     ]
    }
   ],
   "source": [
    "print (NNetwork.conv1.weight.grad)"
   ]
  },
  {
   "cell_type": "code",
   "execution_count": 408,
   "metadata": {},
   "outputs": [],
   "source": [
    "loss.backward()"
   ]
  },
  {
   "cell_type": "code",
   "execution_count": 409,
   "metadata": {},
   "outputs": [
    {
     "name": "stdout",
     "output_type": "stream",
     "text": [
      "torch.Size([6, 1, 5, 5])\n"
     ]
    }
   ],
   "source": [
    "print (NNetwork.conv1.weight.grad.shape)"
   ]
  },
  {
   "cell_type": "markdown",
   "metadata": {},
   "source": [
    "#### Optimizer "
   ]
  },
  {
   "cell_type": "code",
   "execution_count": 410,
   "metadata": {},
   "outputs": [],
   "source": [
    "optimizer = optim .Adam (NNetwork.parameters() , lr = 0.01)"
   ]
  },
  {
   "cell_type": "code",
   "execution_count": 411,
   "metadata": {},
   "outputs": [
    {
     "data": {
      "text/plain": [
       "2.3103418350219727"
      ]
     },
     "execution_count": 411,
     "metadata": {},
     "output_type": "execute_result"
    }
   ],
   "source": [
    "loss .item()"
   ]
  },
  {
   "cell_type": "code",
   "execution_count": 412,
   "metadata": {},
   "outputs": [
    {
     "data": {
      "text/plain": [
       "10"
      ]
     },
     "execution_count": 412,
     "metadata": {},
     "output_type": "execute_result"
    }
   ],
   "source": [
    "get_num_correct(preds,labels)"
   ]
  },
  {
   "cell_type": "code",
   "execution_count": 422,
   "metadata": {},
   "outputs": [],
   "source": [
    "optimizer.step () # update weight"
   ]
  },
  {
   "cell_type": "code",
   "execution_count": 423,
   "metadata": {},
   "outputs": [],
   "source": [
    "preds = NNetwork(images)\n",
    "loss = F.cross_entropy(preds , labels)\n"
   ]
  },
  {
   "cell_type": "code",
   "execution_count": 424,
   "metadata": {},
   "outputs": [
    {
     "data": {
      "text/plain": [
       "2.273371696472168"
      ]
     },
     "execution_count": 424,
     "metadata": {},
     "output_type": "execute_result"
    }
   ],
   "source": [
    "loss.item()"
   ]
  },
  {
   "cell_type": "code",
   "execution_count": 425,
   "metadata": {},
   "outputs": [
    {
     "data": {
      "text/plain": [
       "15"
      ]
     },
     "execution_count": 425,
     "metadata": {},
     "output_type": "execute_result"
    }
   ],
   "source": [
    "get_num_correct(preds,labels)"
   ]
  },
  {
   "cell_type": "markdown",
   "metadata": {},
   "source": [
    "##### singel Batch trainning "
   ]
  },
  {
   "cell_type": "code",
   "execution_count": 454,
   "metadata": {},
   "outputs": [
    {
     "name": "stdout",
     "output_type": "stream",
     "text": [
      "epoch :  0  Total Correct :  47695  Loss :  330.7787740826607\n",
      "epoch :  1  Total Correct :  51487  Loss :  229.48475746810436\n",
      "epoch :  2  Total Correct :  52448  Loss :  205.927319586277\n",
      "epoch :  3  Total Correct :  52602  Loss :  200.70036190748215\n",
      "epoch :  4  Total Correct :  52883  Loss :  194.5498633980751\n"
     ]
    }
   ],
   "source": [
    "Networkk = Network()\n",
    "\n",
    "train_loader = torch.utils.data.DataLoader(train_set , batch_size=100)#Load \n",
    "optimizer = optim .Adam (Networkk.parameters() , lr = 0.01)\n",
    "\n",
    "for epoch in range(5):\n",
    "    total_loss = 0\n",
    "    total_correct = 0\n",
    "\n",
    "    for batch in train_loader:\n",
    "        images , labels = batch\n",
    "\n",
    "        preds = Networkk(images) #pass Batch\n",
    "        loss = F.cross_entropy(preds , labels)#calc loss\n",
    "\n",
    "        optimizer.zero_grad() #not to accumilate\n",
    "        loss.backward() #grad\n",
    "        optimizer.step() #update weight\n",
    "\n",
    "        total_loss+=loss.item()\n",
    "        total_correct += get_num_correct(preds , labels)\n",
    "\n",
    "\n",
    "    print(\"epoch : \" , epoch ,\" Total Correct : \" ,total_correct , \" Loss : \" , total_loss)\n"
   ]
  },
  {
   "cell_type": "code",
   "execution_count": 455,
   "metadata": {},
   "outputs": [],
   "source": [
    "# how many batch => how many steps we having to get to minimum Loss"
   ]
  },
  {
   "cell_type": "code",
   "execution_count": 456,
   "metadata": {},
   "outputs": [
    {
     "data": {
      "text/plain": [
       "0.8813833333333333"
      ]
     },
     "execution_count": 456,
     "metadata": {},
     "output_type": "execute_result"
    }
   ],
   "source": [
    "total_correct / len(train_set)"
   ]
  },
  {
   "cell_type": "markdown",
   "metadata": {},
   "source": [
    "## Analyz CNN Results - Building and plot CM"
   ]
  },
  {
   "cell_type": "code",
   "execution_count": 457,
   "metadata": {},
   "outputs": [
    {
     "data": {
      "text/plain": [
       "60000"
      ]
     },
     "metadata": {},
     "output_type": "display_data"
    },
    {
     "data": {
      "text/plain": [
       "60000"
      ]
     },
     "metadata": {},
     "output_type": "display_data"
    }
   ],
   "source": [
    "display (len(train_set) , len(train_set.targets)) "
   ]
  },
  {
   "cell_type": "markdown",
   "metadata": {},
   "source": [
    "#### Getting preds for entire Training Set  "
   ]
  },
  {
   "cell_type": "code",
   "execution_count": 474,
   "metadata": {},
   "outputs": [
    {
     "ename": "SyntaxError",
     "evalue": "invalid syntax (<ipython-input-474-18f89e15a439>, line 10)",
     "output_type": "error",
     "traceback": [
      "\u001b[1;36m  File \u001b[1;32m\"<ipython-input-474-18f89e15a439>\"\u001b[1;36m, line \u001b[1;32m10\u001b[0m\n\u001b[1;33m    , dim = 0\u001b[0m\n\u001b[1;37m          ^\u001b[0m\n\u001b[1;31mSyntaxError\u001b[0m\u001b[1;31m:\u001b[0m invalid syntax\n"
     ]
    }
   ],
   "source": [
    "def get_all_preds(model , loader):\n",
    "    all_preds = torch.tensor([])\n",
    "    for batch in loader:\n",
    "        images , labels = batch\n",
    "        \n",
    "        preds = model(images)\n",
    "        all_preds = torch.cat\n",
    "        (\n",
    "            (all_preds ,preds) \n",
    "            , dim = 0\n",
    "        )\n",
    "    return all_preds"
   ]
  },
  {
   "cell_type": "code",
   "execution_count": 467,
   "metadata": {},
   "outputs": [],
   "source": [
    "prediction_loader = torch.utils.data.DataLoader(train_set ,batch_size=10000)\n",
    "train_preds = get_all_preds(Networkk , prediction_loader)"
   ]
  },
  {
   "cell_type": "code",
   "execution_count": 468,
   "metadata": {},
   "outputs": [
    {
     "data": {
      "text/plain": [
       "torch.Size([60000, 10])"
      ]
     },
     "execution_count": 468,
     "metadata": {},
     "output_type": "execute_result"
    }
   ],
   "source": [
    "train_preds.shape\n"
   ]
  },
  {
   "cell_type": "code",
   "execution_count": 469,
   "metadata": {},
   "outputs": [
    {
     "name": "stdout",
     "output_type": "stream",
     "text": [
      "True\n"
     ]
    }
   ],
   "source": [
    "print (train_preds.requires_grad)"
   ]
  },
  {
   "cell_type": "code",
   "execution_count": 472,
   "metadata": {},
   "outputs": [],
   "source": [
    "train_preds.grad"
   ]
  },
  {
   "cell_type": "code",
   "execution_count": 473,
   "metadata": {},
   "outputs": [
    {
     "data": {
      "text/plain": [
       "<CatBackward0 at 0x1cc00caed88>"
      ]
     },
     "execution_count": 473,
     "metadata": {},
     "output_type": "execute_result"
    }
   ],
   "source": [
    "train_preds.grad_fn"
   ]
  },
  {
   "cell_type": "code",
   "execution_count": 476,
   "metadata": {},
   "outputs": [],
   "source": [
    "with torch.no_grad():#turn grade off\n",
    "    prediction_loader = torch.utils.data.DataLoader(train_set ,batch_size=10000)\n",
    "    train_preds = get_all_preds(Networkk , prediction_loader)"
   ]
  },
  {
   "cell_type": "code",
   "execution_count": 478,
   "metadata": {},
   "outputs": [
    {
     "name": "stdout",
     "output_type": "stream",
     "text": [
      "False\n"
     ]
    }
   ],
   "source": [
    "print (train_preds.requires_grad)"
   ]
  },
  {
   "cell_type": "code",
   "execution_count": 479,
   "metadata": {},
   "outputs": [],
   "source": [
    "train_preds.grad"
   ]
  },
  {
   "cell_type": "code",
   "execution_count": 480,
   "metadata": {},
   "outputs": [],
   "source": [
    "train_preds.grad_fn"
   ]
  },
  {
   "cell_type": "code",
   "execution_count": 483,
   "metadata": {},
   "outputs": [
    {
     "name": "stdout",
     "output_type": "stream",
     "text": [
      "total correct :  52819\n",
      "accuracy :  0.8803166666666666\n"
     ]
    }
   ],
   "source": [
    "preds_correct = get_num_correct(train_preds,train_set.targets)\n",
    "\n",
    "print('total correct : ' , preds_correct)\n",
    "print (\"accuracy : \" , preds_correct / len (train_set))"
   ]
  },
  {
   "cell_type": "code",
   "execution_count": 484,
   "metadata": {},
   "outputs": [
    {
     "data": {
      "text/plain": [
       "tensor([9, 0, 0,  ..., 3, 0, 5])"
      ]
     },
     "execution_count": 484,
     "metadata": {},
     "output_type": "execute_result"
    }
   ],
   "source": [
    "train_set.targets"
   ]
  },
  {
   "cell_type": "code",
   "execution_count": 485,
   "metadata": {},
   "outputs": [
    {
     "data": {
      "text/plain": [
       "tensor([9, 0, 0,  ..., 3, 0, 5])"
      ]
     },
     "execution_count": 485,
     "metadata": {},
     "output_type": "execute_result"
    }
   ],
   "source": [
    "train_preds.argmax(dim = 1)"
   ]
  },
  {
   "cell_type": "code",
   "execution_count": 486,
   "metadata": {},
   "outputs": [],
   "source": [
    "stacked  = torch .stack (\n",
    "    (train_set.targets , train_preds.argmax(dim = 1)) ,dim = 1\n",
    ")\n"
   ]
  },
  {
   "cell_type": "code",
   "execution_count": 488,
   "metadata": {},
   "outputs": [
    {
     "data": {
      "text/plain": [
       "torch.Size([60000, 2])"
      ]
     },
     "execution_count": 488,
     "metadata": {},
     "output_type": "execute_result"
    }
   ],
   "source": [
    "stacked.shape"
   ]
  },
  {
   "cell_type": "code",
   "execution_count": 491,
   "metadata": {},
   "outputs": [
    {
     "data": {
      "text/plain": [
       "tensor([[9, 9],\n",
       "        [0, 0],\n",
       "        [0, 0],\n",
       "        ...,\n",
       "        [3, 3],\n",
       "        [0, 0],\n",
       "        [5, 5]])"
      ]
     },
     "execution_count": 491,
     "metadata": {},
     "output_type": "execute_result"
    }
   ],
   "source": [
    "stacked"
   ]
  },
  {
   "cell_type": "code",
   "execution_count": 493,
   "metadata": {},
   "outputs": [
    {
     "data": {
      "text/plain": [
       "tensor([[0, 0, 0, 0, 0, 0, 0, 0, 0, 0],\n",
       "        [0, 0, 0, 0, 0, 0, 0, 0, 0, 0],\n",
       "        [0, 0, 0, 0, 0, 0, 0, 0, 0, 0],\n",
       "        [0, 0, 0, 0, 0, 0, 0, 0, 0, 0],\n",
       "        [0, 0, 0, 0, 0, 0, 0, 0, 0, 0],\n",
       "        [0, 0, 0, 0, 0, 0, 0, 0, 0, 0],\n",
       "        [0, 0, 0, 0, 0, 0, 0, 0, 0, 0],\n",
       "        [0, 0, 0, 0, 0, 0, 0, 0, 0, 0],\n",
       "        [0, 0, 0, 0, 0, 0, 0, 0, 0, 0],\n",
       "        [0, 0, 0, 0, 0, 0, 0, 0, 0, 0]])"
      ]
     },
     "execution_count": 493,
     "metadata": {},
     "output_type": "execute_result"
    }
   ],
   "source": [
    "cmt = torch.zeros (10 , 10 , dtype = torch.int64)\n",
    "cmt"
   ]
  },
  {
   "cell_type": "code",
   "execution_count": 494,
   "metadata": {},
   "outputs": [],
   "source": [
    "for p in stacked :\n",
    "    j,k = p.tolist()\n",
    "    cmt[j,k] = cmt[j,k] + 1"
   ]
  },
  {
   "cell_type": "code",
   "execution_count": 495,
   "metadata": {},
   "outputs": [
    {
     "data": {
      "text/plain": [
       "tensor([[5646,    1,   32,   83,   15,    4,  187,    0,   32,    0],\n",
       "        [  24, 5855,    3,   93,    4,    6,   11,    0,    4,    0],\n",
       "        [ 150,   11, 4268,   80, 1069,    3,  395,    0,   23,    1],\n",
       "        [ 367,   18,    5, 5341,  184,    7,   70,    0,    8,    0],\n",
       "        [  29,    7,  169,  221, 5220,    0,  326,    0,   28,    0],\n",
       "        [   1,    0,    0,    0,    0, 5828,    0,  114,    7,   50],\n",
       "        [1632,    9,  359,  114,  531,    2, 3302,    0,   51,    0],\n",
       "        [   0,    0,    0,    0,    0,   49,    0, 5693,    4,  254],\n",
       "        [  26,    1,   13,   25,   23,    8,   53,    5, 5843,    3],\n",
       "        [   0,    0,    0,    0,    0,   36,    0,  137,    4, 5823]])"
      ]
     },
     "execution_count": 495,
     "metadata": {},
     "output_type": "execute_result"
    }
   ],
   "source": [
    "cmt"
   ]
  },
  {
   "cell_type": "code",
   "execution_count": 541,
   "metadata": {},
   "outputs": [
    {
     "data": {
      "image/png": "[encoded data removed]",
      "text/plain": [
       "<Figure size 720x720 with 2 Axes>"
      ]
     },
     "metadata": {
      "needs_background": "light"
     },
     "output_type": "display_data"
    }
   ],
   "source": [
    "names = ['T-shirt' , \"Trouser\" , 'Pullover' , 'Dress' , 'Coat' , \"sandal\" ,\"shirt\",\"sneaker\", \"Bag\" , \"Ankel boot\"]\n",
    "plt.figure(figsize = (10,10))\n",
    "\n",
    "ax = sns.heatmap(cmt, annot=True, cmap='rocket_r' , fmt=\".2f\")\n",
    "ax.xaxis.set_ticklabels(names)\n",
    "ax.yaxis.set_ticklabels(names)\n",
    "plt.show()"
   ]
  },
  {
   "cell_type": "markdown",
   "metadata": {},
   "source": [
    "#### Stack vs Concat in PyTorch , TF , numpy"
   ]
  },
  {
   "cell_type": "markdown",
   "metadata": {},
   "source": [
    "* PyTorch , TF , numpy  : \n",
    "\n",
    "  stack : create new axis  \n",
    "  concate : on existing axis\n",
    "  \n"
   ]
  },
  {
   "cell_type": "code",
   "execution_count": 549,
   "metadata": {},
   "outputs": [
    {
     "name": "stdout",
     "output_type": "stream",
     "text": [
      "epoch :  0  Total Correct :  45677  Loss :  3775.046971843578\n",
      "epoch :  1  Total Correct :  50901  Loss :  2464.6815026551485\n",
      "epoch :  2  Total Correct :  52018  Loss :  2122.324994282564\n",
      "epoch :  3  Total Correct :  52818  Loss :  1928.56826417899\n",
      "epoch :  4  Total Correct :  53245  Loss :  1806.251074576052\n"
     ]
    }
   ],
   "source": [
    "Networkk = Network()\n",
    "\n",
    "train_loader = torch.utils.data.DataLoader(train_set , batch_size=10 , shuffle=True)#Load \n",
    "optimizer = optim .Adam (Networkk.parameters() , lr = 0.001)\n",
    "\n",
    "for epoch in range(5):\n",
    "    total_loss = 0\n",
    "    total_correct = 0\n",
    "\n",
    "    for batch in train_loader:\n",
    "        images , labels = batch\n",
    "\n",
    "        preds = Networkk(images) #pass Batch\n",
    "        loss = F.cross_entropy(preds , labels)#calc loss\n",
    "\n",
    "        optimizer.zero_grad() #not to accumilate\n",
    "        loss.backward() #grad\n",
    "        optimizer.step() #update weight\n",
    "\n",
    "        total_loss+=loss.item()\n",
    "        total_correct += get_num_correct(preds , labels)\n",
    "\n",
    "\n",
    "    print(\"epoch : \" , epoch ,\" Total Correct : \" ,total_correct , \" Loss : \" , total_loss)\n"
   ]
  },
  {
   "cell_type": "code",
   "execution_count": 545,
   "metadata": {},
   "outputs": [],
   "source": [
    "parameters = dict (\n",
    "    lr = [0.01 , 0.001],\n",
    "    batch_size = [10,100,1000],\n",
    "    shuffle = [True , False]\n",
    ")"
   ]
  },
  {
   "cell_type": "code",
   "execution_count": 546,
   "metadata": {},
   "outputs": [
    {
     "data": {
      "text/plain": [
       "[[0.01, 0.001], [10, 100, 1000], [True, False]]"
      ]
     },
     "execution_count": 546,
     "metadata": {},
     "output_type": "execute_result"
    }
   ],
   "source": [
    "params_values = [v for v in parameters.values()]\n",
    "params_values"
   ]
  },
  {
   "cell_type": "code",
   "execution_count": 548,
   "metadata": {},
   "outputs": [
    {
     "name": "stdout",
     "output_type": "stream",
     "text": [
      "0.01 10 True\n",
      "0.01 10 False\n",
      "0.01 100 True\n",
      "0.01 100 False\n",
      "0.01 1000 True\n",
      "0.01 1000 False\n",
      "0.001 10 True\n",
      "0.001 10 False\n",
      "0.001 100 True\n",
      "0.001 100 False\n",
      "0.001 1000 True\n",
      "0.001 1000 False\n"
     ]
    }
   ],
   "source": [
    "for lr , batch_size , shuffle in product (*params_values):\n",
    "    print (lr , batch_size , shuffle)"
   ]
  },
  {
   "cell_type": "code",
   "execution_count": 554,
   "metadata": {},
   "outputs": [],
   "source": [
    "class RunBuilder ():\n",
    "    @staticmethod\n",
    "    def get_runs(params):\n",
    "        Run = namedtuple('Run' , params.keys())\n",
    "        \n",
    "        runs = []\n",
    "        \n",
    "        for v in product (*params.values()):\n",
    "            runs.append(Run(*v))\n",
    "            \n",
    "        return  runs"
   ]
  },
  {
   "cell_type": "code",
   "execution_count": 561,
   "metadata": {},
   "outputs": [
    {
     "data": {
      "text/plain": [
       "[Run(lr=0.01, batch_size=1000),\n",
       " Run(lr=0.01, batch_size=10000),\n",
       " Run(lr=0.001, batch_size=1000),\n",
       " Run(lr=0.001, batch_size=10000)]"
      ]
     },
     "execution_count": 561,
     "metadata": {},
     "output_type": "execute_result"
    }
   ],
   "source": [
    "parameters = dict (\n",
    "    lr = [0.01 , 0.001],\n",
    "    batch_size = [1000,10000],\n",
    "    \n",
    ")\n",
    "runs = RunBuilder.get_runs(parameters)\n",
    "runs"
   ]
  },
  {
   "cell_type": "code",
   "execution_count": 559,
   "metadata": {
    "scrolled": true
   },
   "outputs": [
    {
     "name": "stdout",
     "output_type": "stream",
     "text": [
      "0.01 1000\n"
     ]
    }
   ],
   "source": [
    "run = runs[0]\n",
    "print (run.lr , run.batch_size)"
   ]
  },
  {
   "cell_type": "code",
   "execution_count": 575,
   "metadata": {},
   "outputs": [],
   "source": [
    "class RunManger ():\n",
    "    def __init__ (self):\n",
    "        self.epoch_count = 0\n",
    "        self.epoch_loss = 0\n",
    "        self.epoch_num_correct = 0\n",
    "        self.epoch_start_time = None\n",
    "        \n",
    "        self.run_params = None\n",
    "        self.run_count = 0\n",
    "        self.run_data = []\n",
    "        self.run_start_time = None\n",
    "        \n",
    "        self.network = None\n",
    "        self.loader = None\n",
    "        self.tb = None\n",
    "        \n",
    "        \n",
    "    def begin_run(self,run,network,loader):\n",
    "        self.run_start_time = time.time()\n",
    "        \n",
    "        self.run_params = run\n",
    "        self.run_count += 1\n",
    "        self.network=network\n",
    "        self.loader=loader\n",
    "        \n",
    "        #self.tb = SummaryWriter (comment = f'-{run}')\n",
    "        \n",
    "        images , labels = next (iter(self.loader))\n",
    "        grid = torchvision.utils.make_grid(images)\n",
    "        \n",
    "        #self.tb.add_image('images',grid)\n",
    "        #self.tb.add_graph(self.network , images)\n",
    "        \n",
    "    def end_run (self):\n",
    "        #self.tb.close()\n",
    "        self.epoch_count = 0\n",
    "    \n",
    "    def begin_epoch (self):\n",
    "        self.epoch_count += 1\n",
    "        self.epoch_loss = 0\n",
    "        self.epoch_num_correct = 0\n",
    "        self.epoch_start_time = time.time()\n",
    "    def end_epoch(self):\n",
    "\n",
    "        epoch_duration = time.time() - self.epoch_start_time\n",
    "        run_duration = time.time() - self.run_start_time\n",
    "\n",
    "        loss = self.epoch_loss / len(self.loader.dataset)\n",
    "        accuracy = self.epoch_num_correct / len(self.loader.dataset)\n",
    "\n",
    "        #self.tb.add_scalar('Loss', loss, self.epoch_count)\n",
    "        #self.tb.add_scalar('Accuracy', accuracy, self.epoch_count)\n",
    "\n",
    "        #for name, param in self.network.named_parameters():\n",
    "            #self.tb.add_histogram(name, param, self.epoch_count)\n",
    "            #self.tb.add_histogram(f'{name}.grad', param.grad, self.epoch_count)\n",
    "        \n",
    "        results = OrderedDict()\n",
    "        results[\"run\"] = self.run_count\n",
    "        results[\"epoch\"] = self.epoch_count\n",
    "        results['loss'] = loss\n",
    "        results[\"accuracy\"] = accuracy\n",
    "        results['epoch duration'] = epoch_duration\n",
    "        results['run duration'] = run_duration\n",
    "        for k,v in self.run_params._asdict().items(): results[k] = v\n",
    "        self.run_data.append(results)\n",
    "        df = pd.DataFrame.from_dict(self.run_data, orient='columns')\n",
    "        \n",
    "        clear_output(wait = True)\n",
    "        display(df)\n",
    "        \n",
    "        \n",
    "    \n",
    "    def track_loss(self , loss): \n",
    "        self.epoch_loss += loss.item() * self.loader.batch_size\n",
    "    \n",
    "    def track_num_correct (self , preds ,labels):\n",
    "        self.epoch_num_correct += self._get_num_correct(preds , labels)\n",
    "        \n",
    "    @torch.no_grad()\n",
    "    def _get_num_correct (self , preds ,labels):\n",
    "        return preds .argmax(dim = 1).eq(labels).sum().item()\n",
    "    \n",
    "            \n",
    "    def save(self, fileName):\n",
    "\n",
    "        pd.DataFrame.from_dict(\n",
    "            self.run_data, orient='columns'\n",
    "        ).to_csv(f'{fileName}.csv')\n",
    "\n",
    "        with open(f'{fileName}.json', 'w', encoding='utf-8') as f:\n",
    "            json.dump(self.run_data, f, ensure_ascii=False, indent=4)\n"
   ]
  },
  {
   "cell_type": "code",
   "execution_count": null,
   "metadata": {},
   "outputs": [],
   "source": []
  },
  {
   "cell_type": "code",
   "execution_count": 576,
   "metadata": {},
   "outputs": [
    {
     "data": {
      "text/html": [
       "<div>\n",
       "<style scoped>\n",
       "    .dataframe tbody tr th:only-of-type {\n",
       "        vertical-align: middle;\n",
       "    }\n",
       "\n",
       "    .dataframe tbody tr th {\n",
       "        vertical-align: top;\n",
       "    }\n",
       "\n",
       "    .dataframe thead th {\n",
       "        text-align: right;\n",
       "    }\n",
       "</style>\n",
       "<table border=\"1\" class=\"dataframe\">\n",
       "  <thead>\n",
       "    <tr style=\"text-align: right;\">\n",
       "      <th></th>\n",
       "      <th>run</th>\n",
       "      <th>epoch</th>\n",
       "      <th>loss</th>\n",
       "      <th>accuracy</th>\n",
       "      <th>epoch duration</th>\n",
       "      <th>run duration</th>\n",
       "      <th>lr</th>\n",
       "      <th>batch_size</th>\n",
       "    </tr>\n",
       "  </thead>\n",
       "  <tbody>\n",
       "    <tr>\n",
       "      <th>0</th>\n",
       "      <td>1</td>\n",
       "      <td>1</td>\n",
       "      <td>0.972528</td>\n",
       "      <td>0.628567</td>\n",
       "      <td>22.410365</td>\n",
       "      <td>22.645812</td>\n",
       "      <td>0.01</td>\n",
       "      <td>1000</td>\n",
       "    </tr>\n",
       "    <tr>\n",
       "      <th>1</th>\n",
       "      <td>1</td>\n",
       "      <td>2</td>\n",
       "      <td>0.502756</td>\n",
       "      <td>0.809567</td>\n",
       "      <td>21.259683</td>\n",
       "      <td>43.922903</td>\n",
       "      <td>0.01</td>\n",
       "      <td>1000</td>\n",
       "    </tr>\n",
       "    <tr>\n",
       "      <th>2</th>\n",
       "      <td>1</td>\n",
       "      <td>3</td>\n",
       "      <td>0.403822</td>\n",
       "      <td>0.851067</td>\n",
       "      <td>21.878775</td>\n",
       "      <td>65.814827</td>\n",
       "      <td>0.01</td>\n",
       "      <td>1000</td>\n",
       "    </tr>\n",
       "    <tr>\n",
       "      <th>3</th>\n",
       "      <td>1</td>\n",
       "      <td>4</td>\n",
       "      <td>0.358303</td>\n",
       "      <td>0.868017</td>\n",
       "      <td>22.453121</td>\n",
       "      <td>88.283851</td>\n",
       "      <td>0.01</td>\n",
       "      <td>1000</td>\n",
       "    </tr>\n",
       "    <tr>\n",
       "      <th>4</th>\n",
       "      <td>1</td>\n",
       "      <td>5</td>\n",
       "      <td>0.331161</td>\n",
       "      <td>0.876683</td>\n",
       "      <td>22.885140</td>\n",
       "      <td>111.190251</td>\n",
       "      <td>0.01</td>\n",
       "      <td>1000</td>\n",
       "    </tr>\n",
       "    <tr>\n",
       "      <th>5</th>\n",
       "      <td>2</td>\n",
       "      <td>1</td>\n",
       "      <td>1.405858</td>\n",
       "      <td>0.469567</td>\n",
       "      <td>21.639088</td>\n",
       "      <td>22.164804</td>\n",
       "      <td>0.01</td>\n",
       "      <td>2000</td>\n",
       "    </tr>\n",
       "    <tr>\n",
       "      <th>6</th>\n",
       "      <td>2</td>\n",
       "      <td>2</td>\n",
       "      <td>0.706001</td>\n",
       "      <td>0.732067</td>\n",
       "      <td>18.814978</td>\n",
       "      <td>41.001641</td>\n",
       "      <td>0.01</td>\n",
       "      <td>2000</td>\n",
       "    </tr>\n",
       "    <tr>\n",
       "      <th>7</th>\n",
       "      <td>2</td>\n",
       "      <td>3</td>\n",
       "      <td>0.573386</td>\n",
       "      <td>0.784267</td>\n",
       "      <td>20.429439</td>\n",
       "      <td>61.443433</td>\n",
       "      <td>0.01</td>\n",
       "      <td>2000</td>\n",
       "    </tr>\n",
       "    <tr>\n",
       "      <th>8</th>\n",
       "      <td>2</td>\n",
       "      <td>4</td>\n",
       "      <td>0.512722</td>\n",
       "      <td>0.809700</td>\n",
       "      <td>22.255439</td>\n",
       "      <td>83.722300</td>\n",
       "      <td>0.01</td>\n",
       "      <td>2000</td>\n",
       "    </tr>\n",
       "    <tr>\n",
       "      <th>9</th>\n",
       "      <td>2</td>\n",
       "      <td>5</td>\n",
       "      <td>0.473877</td>\n",
       "      <td>0.827067</td>\n",
       "      <td>21.709360</td>\n",
       "      <td>105.448991</td>\n",
       "      <td>0.01</td>\n",
       "      <td>2000</td>\n",
       "    </tr>\n",
       "  </tbody>\n",
       "</table>\n",
       "</div>"
      ],
      "text/plain": [
       "   run  epoch      loss  accuracy  epoch duration  run duration    lr  \\\n",
       "0    1      1  0.972528  0.628567       22.410365     22.645812  0.01   \n",
       "1    1      2  0.502756  0.809567       21.259683     43.922903  0.01   \n",
       "2    1      3  0.403822  0.851067       21.878775     65.814827  0.01   \n",
       "3    1      4  0.358303  0.868017       22.453121     88.283851  0.01   \n",
       "4    1      5  0.331161  0.876683       22.885140    111.190251  0.01   \n",
       "5    2      1  1.405858  0.469567       21.639088     22.164804  0.01   \n",
       "6    2      2  0.706001  0.732067       18.814978     41.001641  0.01   \n",
       "7    2      3  0.573386  0.784267       20.429439     61.443433  0.01   \n",
       "8    2      4  0.512722  0.809700       22.255439     83.722300  0.01   \n",
       "9    2      5  0.473877  0.827067       21.709360    105.448991  0.01   \n",
       "\n",
       "   batch_size  \n",
       "0        1000  \n",
       "1        1000  \n",
       "2        1000  \n",
       "3        1000  \n",
       "4        1000  \n",
       "5        2000  \n",
       "6        2000  \n",
       "7        2000  \n",
       "8        2000  \n",
       "9        2000  "
      ]
     },
     "metadata": {},
     "output_type": "display_data"
    }
   ],
   "source": [
    "parameters = dict (\n",
    "    lr = [0.01 ],\n",
    "    batch_size = [1000,2000],\n",
    "    \n",
    ")\n",
    "m = RunManger ()\n",
    "for run in RunBuilder.get_runs(parameters):\n",
    "    Networkk = Network()\n",
    "\n",
    "    loader = torch.utils.data.DataLoader(train_set , batch_size=run.batch_size)#Load \n",
    "    optimizer = optim .Adam (Networkk.parameters() , lr =run.lr)\n",
    "\n",
    "    m.begin_run (run , Networkk ,loader)\n",
    "    for epoch in range(5):\n",
    "        m.begin_epoch()\n",
    "\n",
    "        for batch in loader:\n",
    "            images , labels = batch\n",
    "\n",
    "            preds = Networkk(images) #pass Batch\n",
    "            loss = F.cross_entropy(preds , labels)#calc loss\n",
    "\n",
    "            optimizer.zero_grad() #not to accumilate\n",
    "            loss.backward() #grad\n",
    "            optimizer.step() #update weight\n",
    "\n",
    "            m.track_loss(loss)\n",
    "            m.track_num_correct(preds , labels)\n",
    "        m.end_epoch()\n",
    "    m.end_run()\n",
    "m.save('result')"
   ]
  },
  {
   "cell_type": "markdown",
   "metadata": {},
   "source": [
    "## PyTorch Dataset Normalization (Feature scaling)\n"
   ]
  },
  {
   "cell_type": "code",
   "execution_count": 582,
   "metadata": {},
   "outputs": [],
   "source": [
    "\n",
    "train_set = torchvision.datasets.FashionMNIST(\n",
    "root = './data/FashionMNIST', #Extract\n",
    "train = True,\n",
    "download = True,\n",
    "transform=transforms.Compose([transforms.ToTensor()]),\n",
    "#normalize\n",
    ")"
   ]
  },
  {
   "cell_type": "code",
   "execution_count": 594,
   "metadata": {},
   "outputs": [],
   "source": [
    "loader = DataLoader(train_set , batch_size=len(train_set) , num_workers = 1)\n",
    "data = next(iter(loader))\n",
    "mean=data[0].mean()\n",
    "std=data[0].std()"
   ]
  },
  {
   "cell_type": "code",
   "execution_count": 592,
   "metadata": {},
   "outputs": [
    {
     "data": {
      "text/plain": [
       "<matplotlib.lines.Line2D at 0x1ccb658d588>"
      ]
     },
     "execution_count": 592,
     "metadata": {},
     "output_type": "execute_result"
    },
    {
     "data": {
      "image/png": "[encoded data removed]",
      "text/plain": [
       "<Figure size 432x288 with 1 Axes>"
      ]
     },
     "metadata": {
      "needs_background": "light"
     },
     "output_type": "display_data"
    }
   ],
   "source": [
    "plt.hist (data[0].flatten())\n",
    "plt.axvline(data[0].mean())"
   ]
  },
  {
   "cell_type": "code",
   "execution_count": 595,
   "metadata": {},
   "outputs": [],
   "source": [
    "\n",
    "train_set_normal = torchvision.datasets.FashionMNIST(\n",
    "root = './data/FashionMNIST', #Extract\n",
    "train = True,\n",
    "download = True,\n",
    "transform=transforms.Compose([transforms.ToTensor() , transforms.Normalize(mean,std)]),\n",
    ")"
   ]
  },
  {
   "cell_type": "code",
   "execution_count": 597,
   "metadata": {},
   "outputs": [
    {
     "data": {
      "text/plain": [
       "(tensor(-2.9106e-08), tensor(1.))"
      ]
     },
     "execution_count": 597,
     "metadata": {},
     "output_type": "execute_result"
    }
   ],
   "source": [
    "loader = DataLoader(train_set_normal , batch_size=len(train_set) , num_workers = 1)\n",
    "data= next(iter(loader))\n",
    "data[0].mean(), data[0].std() #0 1 main obj"
   ]
  },
  {
   "cell_type": "code",
   "execution_count": 598,
   "metadata": {
    "scrolled": true
   },
   "outputs": [
    {
     "data": {
      "text/plain": [
       "<matplotlib.lines.Line2D at 0x1ccb784f5c8>"
      ]
     },
     "execution_count": 598,
     "metadata": {},
     "output_type": "execute_result"
    },
    {
     "data": {
      "image/png": "[encoded data removed]",
      "text/plain": [
       "<Figure size 432x288 with 1 Axes>"
      ]
     },
     "metadata": {
      "needs_background": "light"
     },
     "output_type": "display_data"
    }
   ],
   "source": [
    "plt.hist (data[0].flatten())\n",
    "plt.axvline(data[0].mean())"
   ]
  },
  {
   "cell_type": "code",
   "execution_count": 599,
   "metadata": {},
   "outputs": [],
   "source": [
    "trainsets = {\"not_normal\" : train_set , \"normal\" : train_set_normal}"
   ]
  },
  {
   "cell_type": "code",
   "execution_count": 603,
   "metadata": {},
   "outputs": [
    {
     "data": {
      "text/html": [
       "<div>\n",
       "<style scoped>\n",
       "    .dataframe tbody tr th:only-of-type {\n",
       "        vertical-align: middle;\n",
       "    }\n",
       "\n",
       "    .dataframe tbody tr th {\n",
       "        vertical-align: top;\n",
       "    }\n",
       "\n",
       "    .dataframe thead th {\n",
       "        text-align: right;\n",
       "    }\n",
       "</style>\n",
       "<table border=\"1\" class=\"dataframe\">\n",
       "  <thead>\n",
       "    <tr style=\"text-align: right;\">\n",
       "      <th></th>\n",
       "      <th>run</th>\n",
       "      <th>epoch</th>\n",
       "      <th>loss</th>\n",
       "      <th>accuracy</th>\n",
       "      <th>epoch duration</th>\n",
       "      <th>run duration</th>\n",
       "      <th>lr</th>\n",
       "      <th>batch_size</th>\n",
       "      <th>num_workers</th>\n",
       "      <th>trainset</th>\n",
       "    </tr>\n",
       "  </thead>\n",
       "  <tbody>\n",
       "    <tr>\n",
       "      <th>0</th>\n",
       "      <td>1</td>\n",
       "      <td>1</td>\n",
       "      <td>0.583555</td>\n",
       "      <td>0.778400</td>\n",
       "      <td>20.374712</td>\n",
       "      <td>23.014804</td>\n",
       "      <td>0.01</td>\n",
       "      <td>100</td>\n",
       "      <td>1</td>\n",
       "      <td>not_normal</td>\n",
       "    </tr>\n",
       "    <tr>\n",
       "      <th>1</th>\n",
       "      <td>1</td>\n",
       "      <td>2</td>\n",
       "      <td>0.409203</td>\n",
       "      <td>0.849550</td>\n",
       "      <td>19.554527</td>\n",
       "      <td>42.589958</td>\n",
       "      <td>0.01</td>\n",
       "      <td>100</td>\n",
       "      <td>1</td>\n",
       "      <td>not_normal</td>\n",
       "    </tr>\n",
       "    <tr>\n",
       "      <th>2</th>\n",
       "      <td>1</td>\n",
       "      <td>3</td>\n",
       "      <td>0.375384</td>\n",
       "      <td>0.860683</td>\n",
       "      <td>25.653745</td>\n",
       "      <td>68.267575</td>\n",
       "      <td>0.01</td>\n",
       "      <td>100</td>\n",
       "      <td>1</td>\n",
       "      <td>not_normal</td>\n",
       "    </tr>\n",
       "    <tr>\n",
       "      <th>3</th>\n",
       "      <td>1</td>\n",
       "      <td>4</td>\n",
       "      <td>0.357378</td>\n",
       "      <td>0.866200</td>\n",
       "      <td>22.145278</td>\n",
       "      <td>90.441089</td>\n",
       "      <td>0.01</td>\n",
       "      <td>100</td>\n",
       "      <td>1</td>\n",
       "      <td>not_normal</td>\n",
       "    </tr>\n",
       "    <tr>\n",
       "      <th>4</th>\n",
       "      <td>1</td>\n",
       "      <td>5</td>\n",
       "      <td>0.347530</td>\n",
       "      <td>0.871983</td>\n",
       "      <td>24.699917</td>\n",
       "      <td>115.178218</td>\n",
       "      <td>0.01</td>\n",
       "      <td>100</td>\n",
       "      <td>1</td>\n",
       "      <td>not_normal</td>\n",
       "    </tr>\n",
       "    <tr>\n",
       "      <th>5</th>\n",
       "      <td>1</td>\n",
       "      <td>6</td>\n",
       "      <td>0.336867</td>\n",
       "      <td>0.875650</td>\n",
       "      <td>23.907470</td>\n",
       "      <td>139.111878</td>\n",
       "      <td>0.01</td>\n",
       "      <td>100</td>\n",
       "      <td>1</td>\n",
       "      <td>not_normal</td>\n",
       "    </tr>\n",
       "    <tr>\n",
       "      <th>6</th>\n",
       "      <td>1</td>\n",
       "      <td>7</td>\n",
       "      <td>0.337668</td>\n",
       "      <td>0.875867</td>\n",
       "      <td>22.184599</td>\n",
       "      <td>161.313734</td>\n",
       "      <td>0.01</td>\n",
       "      <td>100</td>\n",
       "      <td>1</td>\n",
       "      <td>not_normal</td>\n",
       "    </tr>\n",
       "    <tr>\n",
       "      <th>7</th>\n",
       "      <td>1</td>\n",
       "      <td>8</td>\n",
       "      <td>0.330253</td>\n",
       "      <td>0.877717</td>\n",
       "      <td>22.298139</td>\n",
       "      <td>183.647262</td>\n",
       "      <td>0.01</td>\n",
       "      <td>100</td>\n",
       "      <td>1</td>\n",
       "      <td>not_normal</td>\n",
       "    </tr>\n",
       "    <tr>\n",
       "      <th>8</th>\n",
       "      <td>1</td>\n",
       "      <td>9</td>\n",
       "      <td>0.326381</td>\n",
       "      <td>0.881033</td>\n",
       "      <td>24.479533</td>\n",
       "      <td>208.149292</td>\n",
       "      <td>0.01</td>\n",
       "      <td>100</td>\n",
       "      <td>1</td>\n",
       "      <td>not_normal</td>\n",
       "    </tr>\n",
       "    <tr>\n",
       "      <th>9</th>\n",
       "      <td>1</td>\n",
       "      <td>10</td>\n",
       "      <td>0.324160</td>\n",
       "      <td>0.879933</td>\n",
       "      <td>27.379008</td>\n",
       "      <td>235.594556</td>\n",
       "      <td>0.01</td>\n",
       "      <td>100</td>\n",
       "      <td>1</td>\n",
       "      <td>not_normal</td>\n",
       "    </tr>\n",
       "    <tr>\n",
       "      <th>10</th>\n",
       "      <td>1</td>\n",
       "      <td>11</td>\n",
       "      <td>0.320773</td>\n",
       "      <td>0.880517</td>\n",
       "      <td>26.903375</td>\n",
       "      <td>262.528913</td>\n",
       "      <td>0.01</td>\n",
       "      <td>100</td>\n",
       "      <td>1</td>\n",
       "      <td>not_normal</td>\n",
       "    </tr>\n",
       "    <tr>\n",
       "      <th>11</th>\n",
       "      <td>1</td>\n",
       "      <td>12</td>\n",
       "      <td>0.317200</td>\n",
       "      <td>0.883283</td>\n",
       "      <td>26.113081</td>\n",
       "      <td>288.680567</td>\n",
       "      <td>0.01</td>\n",
       "      <td>100</td>\n",
       "      <td>1</td>\n",
       "      <td>not_normal</td>\n",
       "    </tr>\n",
       "    <tr>\n",
       "      <th>12</th>\n",
       "      <td>1</td>\n",
       "      <td>13</td>\n",
       "      <td>0.315174</td>\n",
       "      <td>0.883333</td>\n",
       "      <td>28.914273</td>\n",
       "      <td>317.632778</td>\n",
       "      <td>0.01</td>\n",
       "      <td>100</td>\n",
       "      <td>1</td>\n",
       "      <td>not_normal</td>\n",
       "    </tr>\n",
       "    <tr>\n",
       "      <th>13</th>\n",
       "      <td>1</td>\n",
       "      <td>14</td>\n",
       "      <td>0.306514</td>\n",
       "      <td>0.886217</td>\n",
       "      <td>30.753876</td>\n",
       "      <td>348.440833</td>\n",
       "      <td>0.01</td>\n",
       "      <td>100</td>\n",
       "      <td>1</td>\n",
       "      <td>not_normal</td>\n",
       "    </tr>\n",
       "    <tr>\n",
       "      <th>14</th>\n",
       "      <td>1</td>\n",
       "      <td>15</td>\n",
       "      <td>0.306793</td>\n",
       "      <td>0.886600</td>\n",
       "      <td>26.933642</td>\n",
       "      <td>375.416833</td>\n",
       "      <td>0.01</td>\n",
       "      <td>100</td>\n",
       "      <td>1</td>\n",
       "      <td>not_normal</td>\n",
       "    </tr>\n",
       "    <tr>\n",
       "      <th>15</th>\n",
       "      <td>1</td>\n",
       "      <td>16</td>\n",
       "      <td>0.307293</td>\n",
       "      <td>0.885733</td>\n",
       "      <td>24.452155</td>\n",
       "      <td>399.895707</td>\n",
       "      <td>0.01</td>\n",
       "      <td>100</td>\n",
       "      <td>1</td>\n",
       "      <td>not_normal</td>\n",
       "    </tr>\n",
       "    <tr>\n",
       "      <th>16</th>\n",
       "      <td>1</td>\n",
       "      <td>17</td>\n",
       "      <td>0.321747</td>\n",
       "      <td>0.882200</td>\n",
       "      <td>25.701978</td>\n",
       "      <td>425.683854</td>\n",
       "      <td>0.01</td>\n",
       "      <td>100</td>\n",
       "      <td>1</td>\n",
       "      <td>not_normal</td>\n",
       "    </tr>\n",
       "    <tr>\n",
       "      <th>17</th>\n",
       "      <td>1</td>\n",
       "      <td>18</td>\n",
       "      <td>0.304006</td>\n",
       "      <td>0.888217</td>\n",
       "      <td>23.859663</td>\n",
       "      <td>449.565753</td>\n",
       "      <td>0.01</td>\n",
       "      <td>100</td>\n",
       "      <td>1</td>\n",
       "      <td>not_normal</td>\n",
       "    </tr>\n",
       "    <tr>\n",
       "      <th>18</th>\n",
       "      <td>1</td>\n",
       "      <td>19</td>\n",
       "      <td>0.323268</td>\n",
       "      <td>0.882783</td>\n",
       "      <td>23.540869</td>\n",
       "      <td>473.162160</td>\n",
       "      <td>0.01</td>\n",
       "      <td>100</td>\n",
       "      <td>1</td>\n",
       "      <td>not_normal</td>\n",
       "    </tr>\n",
       "    <tr>\n",
       "      <th>19</th>\n",
       "      <td>1</td>\n",
       "      <td>20</td>\n",
       "      <td>0.306885</td>\n",
       "      <td>0.886217</td>\n",
       "      <td>24.095592</td>\n",
       "      <td>497.307751</td>\n",
       "      <td>0.01</td>\n",
       "      <td>100</td>\n",
       "      <td>1</td>\n",
       "      <td>not_normal</td>\n",
       "    </tr>\n",
       "    <tr>\n",
       "      <th>20</th>\n",
       "      <td>2</td>\n",
       "      <td>1</td>\n",
       "      <td>0.525862</td>\n",
       "      <td>0.805533</td>\n",
       "      <td>33.086739</td>\n",
       "      <td>36.665736</td>\n",
       "      <td>0.01</td>\n",
       "      <td>100</td>\n",
       "      <td>1</td>\n",
       "      <td>normal</td>\n",
       "    </tr>\n",
       "    <tr>\n",
       "      <th>21</th>\n",
       "      <td>2</td>\n",
       "      <td>2</td>\n",
       "      <td>0.382555</td>\n",
       "      <td>0.858667</td>\n",
       "      <td>30.727468</td>\n",
       "      <td>67.436049</td>\n",
       "      <td>0.01</td>\n",
       "      <td>100</td>\n",
       "      <td>1</td>\n",
       "      <td>normal</td>\n",
       "    </tr>\n",
       "    <tr>\n",
       "      <th>22</th>\n",
       "      <td>2</td>\n",
       "      <td>3</td>\n",
       "      <td>0.356810</td>\n",
       "      <td>0.869733</td>\n",
       "      <td>32.911896</td>\n",
       "      <td>100.380411</td>\n",
       "      <td>0.01</td>\n",
       "      <td>100</td>\n",
       "      <td>1</td>\n",
       "      <td>normal</td>\n",
       "    </tr>\n",
       "    <tr>\n",
       "      <th>23</th>\n",
       "      <td>2</td>\n",
       "      <td>4</td>\n",
       "      <td>0.342989</td>\n",
       "      <td>0.873883</td>\n",
       "      <td>33.813612</td>\n",
       "      <td>134.230637</td>\n",
       "      <td>0.01</td>\n",
       "      <td>100</td>\n",
       "      <td>1</td>\n",
       "      <td>normal</td>\n",
       "    </tr>\n",
       "    <tr>\n",
       "      <th>24</th>\n",
       "      <td>2</td>\n",
       "      <td>5</td>\n",
       "      <td>0.338519</td>\n",
       "      <td>0.877367</td>\n",
       "      <td>32.238294</td>\n",
       "      <td>166.517829</td>\n",
       "      <td>0.01</td>\n",
       "      <td>100</td>\n",
       "      <td>1</td>\n",
       "      <td>normal</td>\n",
       "    </tr>\n",
       "    <tr>\n",
       "      <th>25</th>\n",
       "      <td>2</td>\n",
       "      <td>6</td>\n",
       "      <td>0.330291</td>\n",
       "      <td>0.879067</td>\n",
       "      <td>29.508526</td>\n",
       "      <td>196.059930</td>\n",
       "      <td>0.01</td>\n",
       "      <td>100</td>\n",
       "      <td>1</td>\n",
       "      <td>normal</td>\n",
       "    </tr>\n",
       "    <tr>\n",
       "      <th>26</th>\n",
       "      <td>2</td>\n",
       "      <td>7</td>\n",
       "      <td>0.331767</td>\n",
       "      <td>0.878850</td>\n",
       "      <td>31.010473</td>\n",
       "      <td>227.104662</td>\n",
       "      <td>0.01</td>\n",
       "      <td>100</td>\n",
       "      <td>1</td>\n",
       "      <td>normal</td>\n",
       "    </tr>\n",
       "    <tr>\n",
       "      <th>27</th>\n",
       "      <td>2</td>\n",
       "      <td>8</td>\n",
       "      <td>0.324665</td>\n",
       "      <td>0.881933</td>\n",
       "      <td>31.210223</td>\n",
       "      <td>258.375879</td>\n",
       "      <td>0.01</td>\n",
       "      <td>100</td>\n",
       "      <td>1</td>\n",
       "      <td>normal</td>\n",
       "    </tr>\n",
       "    <tr>\n",
       "      <th>28</th>\n",
       "      <td>2</td>\n",
       "      <td>9</td>\n",
       "      <td>0.314365</td>\n",
       "      <td>0.885883</td>\n",
       "      <td>30.416981</td>\n",
       "      <td>288.826277</td>\n",
       "      <td>0.01</td>\n",
       "      <td>100</td>\n",
       "      <td>1</td>\n",
       "      <td>normal</td>\n",
       "    </tr>\n",
       "    <tr>\n",
       "      <th>29</th>\n",
       "      <td>2</td>\n",
       "      <td>10</td>\n",
       "      <td>0.311271</td>\n",
       "      <td>0.888717</td>\n",
       "      <td>15.859259</td>\n",
       "      <td>304.717388</td>\n",
       "      <td>0.01</td>\n",
       "      <td>100</td>\n",
       "      <td>1</td>\n",
       "      <td>normal</td>\n",
       "    </tr>\n",
       "    <tr>\n",
       "      <th>30</th>\n",
       "      <td>2</td>\n",
       "      <td>11</td>\n",
       "      <td>0.313488</td>\n",
       "      <td>0.887583</td>\n",
       "      <td>12.819308</td>\n",
       "      <td>317.552656</td>\n",
       "      <td>0.01</td>\n",
       "      <td>100</td>\n",
       "      <td>1</td>\n",
       "      <td>normal</td>\n",
       "    </tr>\n",
       "    <tr>\n",
       "      <th>31</th>\n",
       "      <td>2</td>\n",
       "      <td>12</td>\n",
       "      <td>0.310773</td>\n",
       "      <td>0.888517</td>\n",
       "      <td>12.371697</td>\n",
       "      <td>329.941359</td>\n",
       "      <td>0.01</td>\n",
       "      <td>100</td>\n",
       "      <td>1</td>\n",
       "      <td>normal</td>\n",
       "    </tr>\n",
       "    <tr>\n",
       "      <th>32</th>\n",
       "      <td>2</td>\n",
       "      <td>13</td>\n",
       "      <td>0.301746</td>\n",
       "      <td>0.891350</td>\n",
       "      <td>12.600708</td>\n",
       "      <td>342.557028</td>\n",
       "      <td>0.01</td>\n",
       "      <td>100</td>\n",
       "      <td>1</td>\n",
       "      <td>normal</td>\n",
       "    </tr>\n",
       "    <tr>\n",
       "      <th>33</th>\n",
       "      <td>2</td>\n",
       "      <td>14</td>\n",
       "      <td>0.305999</td>\n",
       "      <td>0.888750</td>\n",
       "      <td>12.908806</td>\n",
       "      <td>355.481791</td>\n",
       "      <td>0.01</td>\n",
       "      <td>100</td>\n",
       "      <td>1</td>\n",
       "      <td>normal</td>\n",
       "    </tr>\n",
       "    <tr>\n",
       "      <th>34</th>\n",
       "      <td>2</td>\n",
       "      <td>15</td>\n",
       "      <td>0.301060</td>\n",
       "      <td>0.892867</td>\n",
       "      <td>12.970965</td>\n",
       "      <td>368.468712</td>\n",
       "      <td>0.01</td>\n",
       "      <td>100</td>\n",
       "      <td>1</td>\n",
       "      <td>normal</td>\n",
       "    </tr>\n",
       "    <tr>\n",
       "      <th>35</th>\n",
       "      <td>2</td>\n",
       "      <td>16</td>\n",
       "      <td>0.300093</td>\n",
       "      <td>0.892533</td>\n",
       "      <td>12.853111</td>\n",
       "      <td>381.338774</td>\n",
       "      <td>0.01</td>\n",
       "      <td>100</td>\n",
       "      <td>1</td>\n",
       "      <td>normal</td>\n",
       "    </tr>\n",
       "    <tr>\n",
       "      <th>36</th>\n",
       "      <td>2</td>\n",
       "      <td>17</td>\n",
       "      <td>0.310567</td>\n",
       "      <td>0.889883</td>\n",
       "      <td>12.982357</td>\n",
       "      <td>394.341078</td>\n",
       "      <td>0.01</td>\n",
       "      <td>100</td>\n",
       "      <td>1</td>\n",
       "      <td>normal</td>\n",
       "    </tr>\n",
       "    <tr>\n",
       "      <th>37</th>\n",
       "      <td>2</td>\n",
       "      <td>18</td>\n",
       "      <td>0.302801</td>\n",
       "      <td>0.892533</td>\n",
       "      <td>13.009933</td>\n",
       "      <td>407.371072</td>\n",
       "      <td>0.01</td>\n",
       "      <td>100</td>\n",
       "      <td>1</td>\n",
       "      <td>normal</td>\n",
       "    </tr>\n",
       "    <tr>\n",
       "      <th>38</th>\n",
       "      <td>2</td>\n",
       "      <td>19</td>\n",
       "      <td>0.292820</td>\n",
       "      <td>0.895550</td>\n",
       "      <td>13.140805</td>\n",
       "      <td>420.528830</td>\n",
       "      <td>0.01</td>\n",
       "      <td>100</td>\n",
       "      <td>1</td>\n",
       "      <td>normal</td>\n",
       "    </tr>\n",
       "    <tr>\n",
       "      <th>39</th>\n",
       "      <td>2</td>\n",
       "      <td>20</td>\n",
       "      <td>0.292617</td>\n",
       "      <td>0.896650</td>\n",
       "      <td>14.731078</td>\n",
       "      <td>435.279822</td>\n",
       "      <td>0.01</td>\n",
       "      <td>100</td>\n",
       "      <td>1</td>\n",
       "      <td>normal</td>\n",
       "    </tr>\n",
       "  </tbody>\n",
       "</table>\n",
       "</div>"
      ],
      "text/plain": [
       "    run  epoch      loss  accuracy  epoch duration  run duration    lr  \\\n",
       "0     1      1  0.583555  0.778400       20.374712     23.014804  0.01   \n",
       "1     1      2  0.409203  0.849550       19.554527     42.589958  0.01   \n",
       "2     1      3  0.375384  0.860683       25.653745     68.267575  0.01   \n",
       "3     1      4  0.357378  0.866200       22.145278     90.441089  0.01   \n",
       "4     1      5  0.347530  0.871983       24.699917    115.178218  0.01   \n",
       "5     1      6  0.336867  0.875650       23.907470    139.111878  0.01   \n",
       "6     1      7  0.337668  0.875867       22.184599    161.313734  0.01   \n",
       "7     1      8  0.330253  0.877717       22.298139    183.647262  0.01   \n",
       "8     1      9  0.326381  0.881033       24.479533    208.149292  0.01   \n",
       "9     1     10  0.324160  0.879933       27.379008    235.594556  0.01   \n",
       "10    1     11  0.320773  0.880517       26.903375    262.528913  0.01   \n",
       "11    1     12  0.317200  0.883283       26.113081    288.680567  0.01   \n",
       "12    1     13  0.315174  0.883333       28.914273    317.632778  0.01   \n",
       "13    1     14  0.306514  0.886217       30.753876    348.440833  0.01   \n",
       "14    1     15  0.306793  0.886600       26.933642    375.416833  0.01   \n",
       "15    1     16  0.307293  0.885733       24.452155    399.895707  0.01   \n",
       "16    1     17  0.321747  0.882200       25.701978    425.683854  0.01   \n",
       "17    1     18  0.304006  0.888217       23.859663    449.565753  0.01   \n",
       "18    1     19  0.323268  0.882783       23.540869    473.162160  0.01   \n",
       "19    1     20  0.306885  0.886217       24.095592    497.307751  0.01   \n",
       "20    2      1  0.525862  0.805533       33.086739     36.665736  0.01   \n",
       "21    2      2  0.382555  0.858667       30.727468     67.436049  0.01   \n",
       "22    2      3  0.356810  0.869733       32.911896    100.380411  0.01   \n",
       "23    2      4  0.342989  0.873883       33.813612    134.230637  0.01   \n",
       "24    2      5  0.338519  0.877367       32.238294    166.517829  0.01   \n",
       "25    2      6  0.330291  0.879067       29.508526    196.059930  0.01   \n",
       "26    2      7  0.331767  0.878850       31.010473    227.104662  0.01   \n",
       "27    2      8  0.324665  0.881933       31.210223    258.375879  0.01   \n",
       "28    2      9  0.314365  0.885883       30.416981    288.826277  0.01   \n",
       "29    2     10  0.311271  0.888717       15.859259    304.717388  0.01   \n",
       "30    2     11  0.313488  0.887583       12.819308    317.552656  0.01   \n",
       "31    2     12  0.310773  0.888517       12.371697    329.941359  0.01   \n",
       "32    2     13  0.301746  0.891350       12.600708    342.557028  0.01   \n",
       "33    2     14  0.305999  0.888750       12.908806    355.481791  0.01   \n",
       "34    2     15  0.301060  0.892867       12.970965    368.468712  0.01   \n",
       "35    2     16  0.300093  0.892533       12.853111    381.338774  0.01   \n",
       "36    2     17  0.310567  0.889883       12.982357    394.341078  0.01   \n",
       "37    2     18  0.302801  0.892533       13.009933    407.371072  0.01   \n",
       "38    2     19  0.292820  0.895550       13.140805    420.528830  0.01   \n",
       "39    2     20  0.292617  0.896650       14.731078    435.279822  0.01   \n",
       "\n",
       "    batch_size  num_workers    trainset  \n",
       "0          100            1  not_normal  \n",
       "1          100            1  not_normal  \n",
       "2          100            1  not_normal  \n",
       "3          100            1  not_normal  \n",
       "4          100            1  not_normal  \n",
       "5          100            1  not_normal  \n",
       "6          100            1  not_normal  \n",
       "7          100            1  not_normal  \n",
       "8          100            1  not_normal  \n",
       "9          100            1  not_normal  \n",
       "10         100            1  not_normal  \n",
       "11         100            1  not_normal  \n",
       "12         100            1  not_normal  \n",
       "13         100            1  not_normal  \n",
       "14         100            1  not_normal  \n",
       "15         100            1  not_normal  \n",
       "16         100            1  not_normal  \n",
       "17         100            1  not_normal  \n",
       "18         100            1  not_normal  \n",
       "19         100            1  not_normal  \n",
       "20         100            1      normal  \n",
       "21         100            1      normal  \n",
       "22         100            1      normal  \n",
       "23         100            1      normal  \n",
       "24         100            1      normal  \n",
       "25         100            1      normal  \n",
       "26         100            1      normal  \n",
       "27         100            1      normal  \n",
       "28         100            1      normal  \n",
       "29         100            1      normal  \n",
       "30         100            1      normal  \n",
       "31         100            1      normal  \n",
       "32         100            1      normal  \n",
       "33         100            1      normal  \n",
       "34         100            1      normal  \n",
       "35         100            1      normal  \n",
       "36         100            1      normal  \n",
       "37         100            1      normal  \n",
       "38         100            1      normal  \n",
       "39         100            1      normal  "
      ]
     },
     "metadata": {},
     "output_type": "display_data"
    }
   ],
   "source": [
    "parameters = dict (\n",
    "    lr = [0.01 ],\n",
    "    batch_size = [100],\n",
    "    num_workers =[1],\n",
    "    trainset= ['not_normal' , 'normal']\n",
    "    \n",
    ")\n",
    "m = RunManger ()\n",
    "for run in RunBuilder.get_runs(parameters):\n",
    "    Networkk = Network()\n",
    "\n",
    "    loader = torch.utils.data.DataLoader(trainsets[run.trainset] , batch_size=run.batch_size , num_workers=run.num_workers)#Load \n",
    "    optimizer = optim .Adam (Networkk.parameters() , lr =run.lr)\n",
    "\n",
    "    m.begin_run (run , Networkk ,loader)\n",
    "    for epoch in range(20):\n",
    "        m.begin_epoch()\n",
    "\n",
    "        for batch in loader:\n",
    "            images , labels = batch\n",
    "\n",
    "            preds = Networkk(images) #pass Batch\n",
    "            loss = F.cross_entropy(preds , labels)#calc loss\n",
    "\n",
    "            optimizer.zero_grad() #not to accumilate\n",
    "            loss.backward() #grad\n",
    "            optimizer.step() #update weight\n",
    "\n",
    "            m.track_loss(loss)\n",
    "            m.track_num_correct(preds , labels)\n",
    "        m.end_epoch()\n",
    "    m.end_run()\n",
    "m.save('result')"
   ]
  },
  {
   "cell_type": "markdown",
   "metadata": {},
   "source": [
    "## PyTorch Sequential Models "
   ]
  },
  {
   "cell_type": "code",
   "execution_count": 606,
   "metadata": {},
   "outputs": [
    {
     "data": {
      "text/plain": [
       "torch.Size([1, 28, 28])"
      ]
     },
     "execution_count": 606,
     "metadata": {},
     "output_type": "execute_result"
    }
   ],
   "source": [
    "image , label = train_set[0]\n",
    "image.shape"
   ]
  },
  {
   "cell_type": "code",
   "execution_count": 607,
   "metadata": {},
   "outputs": [
    {
     "data": {
      "text/plain": [
       "<matplotlib.image.AxesImage at 0x1ccb79b8988>"
      ]
     },
     "execution_count": 607,
     "metadata": {},
     "output_type": "execute_result"
    },
    {
     "data": {
      "image/png": "[encoded data removed]",
      "text/plain": [
       "<Figure size 432x288 with 1 Axes>"
      ]
     },
     "metadata": {
      "needs_background": "light"
     },
     "output_type": "display_data"
    }
   ],
   "source": [
    "plt.imshow(image.squeeze())"
   ]
  },
  {
   "cell_type": "code",
   "execution_count": 608,
   "metadata": {},
   "outputs": [
    {
     "data": {
      "text/plain": [
       "['T-shirt/top',\n",
       " 'Trouser',\n",
       " 'Pullover',\n",
       " 'Dress',\n",
       " 'Coat',\n",
       " 'Sandal',\n",
       " 'Shirt',\n",
       " 'Sneaker',\n",
       " 'Bag',\n",
       " 'Ankle boot']"
      ]
     },
     "execution_count": 608,
     "metadata": {},
     "output_type": "execute_result"
    }
   ],
   "source": [
    "train_set.classes"
   ]
  },
  {
   "cell_type": "code",
   "execution_count": 619,
   "metadata": {},
   "outputs": [],
   "source": [
    "in_features = image.numel()\n",
    "out_features = math.floor(in_features / 2 )\n",
    "out_classes = len(train_set.classes)"
   ]
  },
  {
   "cell_type": "code",
   "execution_count": 622,
   "metadata": {},
   "outputs": [
    {
     "data": {
      "text/plain": [
       "Sequential(\n",
       "  (0): Flatten(start_dim=1, end_dim=-1)\n",
       "  (1): Linear(in_features=784, out_features=392, bias=True)\n",
       "  (2): Linear(in_features=392, out_features=10, bias=True)\n",
       ")"
      ]
     },
     "execution_count": 622,
     "metadata": {},
     "output_type": "execute_result"
    }
   ],
   "source": [
    "network1 = nn.Sequential(\n",
    "    nn.Flatten (start_dim = 1),\n",
    "    nn.Linear(in_features , out_features),\n",
    "    nn.Linear(out_features,out_classes)\n",
    ")\n",
    "network1"
   ]
  },
  {
   "cell_type": "code",
   "execution_count": 623,
   "metadata": {},
   "outputs": [
    {
     "data": {
      "text/plain": [
       "Linear(in_features=784, out_features=392, bias=True)"
      ]
     },
     "execution_count": 623,
     "metadata": {},
     "output_type": "execute_result"
    }
   ],
   "source": [
    "network1[1]"
   ]
  },
  {
   "cell_type": "code",
   "execution_count": 624,
   "metadata": {},
   "outputs": [
    {
     "data": {
      "text/plain": [
       "torch.Size([1, 1, 1, 28, 28])"
      ]
     },
     "execution_count": 624,
     "metadata": {},
     "output_type": "execute_result"
    }
   ],
   "source": [
    "image = image . unsqueeze(0)\n",
    "image.shape"
   ]
  },
  {
   "cell_type": "code",
   "execution_count": 625,
   "metadata": {},
   "outputs": [
    {
     "data": {
      "text/plain": [
       "tensor([[-0.0923,  0.0840,  0.2670,  0.3973,  0.0824,  0.1457,  0.0507,  0.1029,  0.1829, -0.1642]],\n",
       "       grad_fn=<AddmmBackward0>)"
      ]
     },
     "execution_count": 625,
     "metadata": {},
     "output_type": "execute_result"
    }
   ],
   "source": [
    "network1(image)"
   ]
  },
  {
   "cell_type": "code",
   "execution_count": 626,
   "metadata": {},
   "outputs": [
    {
     "data": {
      "text/plain": [
       "Sequential(\n",
       "  (flat): Flatten(start_dim=1, end_dim=-1)\n",
       "  (hidden): Linear(in_features=784, out_features=392, bias=True)\n",
       "  (output): Linear(in_features=392, out_features=10, bias=True)\n",
       ")"
      ]
     },
     "execution_count": 626,
     "metadata": {},
     "output_type": "execute_result"
    }
   ],
   "source": [
    "layers = OrderedDict([\n",
    "    ( 'flat' , nn.Flatten (start_dim = 1)),\n",
    "    ('hidden',nn.Linear(in_features , out_features)),\n",
    "    ('output',nn.Linear(out_features,out_classes))\n",
    "])\n",
    "\n",
    "network2 = nn.Sequential(layers)\n",
    "network2"
   ]
  },
  {
   "cell_type": "code",
   "execution_count": 629,
   "metadata": {},
   "outputs": [
    {
     "data": {
      "text/plain": [
       "tensor([[ 0.2664,  0.0198, -0.1054, -0.2437, -0.1267, -0.0475,  0.1451, -0.1191, -0.3133, -0.1063]],\n",
       "       grad_fn=<AddmmBackward0>)"
      ]
     },
     "execution_count": 629,
     "metadata": {},
     "output_type": "execute_result"
    }
   ],
   "source": [
    "network2(image)\n",
    "\n",
    "#diff classes as weight are random without specifing the seed"
   ]
  },
  {
   "cell_type": "markdown",
   "metadata": {},
   "source": [
    "## Batch Norm in PyTorch"
   ]
  },
  {
   "cell_type": "code",
   "execution_count": 634,
   "metadata": {},
   "outputs": [],
   "source": [
    "torch.manual_seed(50)\n",
    "network1 = nn.Sequential(\n",
    "      nn.Conv2d(in_channels=1, out_channels=6, kernel_size=5)\n",
    "    , nn.ReLU()\n",
    "    , nn.MaxPool2d(kernel_size=2, stride=2)\n",
    "    , nn.Conv2d(in_channels=6, out_channels=12, kernel_size=5)\n",
    "    , nn.ReLU()\n",
    "    , nn.MaxPool2d(kernel_size=2, stride=2)\n",
    "    , nn.Flatten(start_dim=1)  \n",
    "    , nn.Linear(in_features=12*4*4, out_features=120)\n",
    "    , nn.ReLU()\n",
    "    , nn.Linear(in_features=120, out_features=60)\n",
    "    , nn.ReLU()\n",
    "    , nn.Linear(in_features=60, out_features=10)\n",
    ")"
   ]
  },
  {
   "cell_type": "code",
   "execution_count": 635,
   "metadata": {
    "scrolled": true
   },
   "outputs": [],
   "source": [
    "torch.manual_seed(50)\n",
    "network2 = nn.Sequential(\n",
    "      nn.Conv2d(in_channels=1, out_channels=6, kernel_size=5)\n",
    "    , nn.ReLU()\n",
    "    , nn.MaxPool2d(kernel_size=2, stride=2)\n",
    "    , nn.BatchNorm2d(6)\n",
    "    , nn.Conv2d(in_channels=6, out_channels=12, kernel_size=5)\n",
    "    , nn.ReLU()\n",
    "    , nn.MaxPool2d(kernel_size=2, stride=2)\n",
    "    , nn.Flatten(start_dim=1)  \n",
    "    , nn.Linear(in_features=12*4*4, out_features=120)\n",
    "    , nn.ReLU()\n",
    "    , nn.BatchNorm1d(120)\n",
    "    , nn.Linear(in_features=120, out_features=60)\n",
    "    , nn.ReLU()\n",
    "    , nn.Linear(in_features=60, out_features=10)\n",
    ")"
   ]
  },
  {
   "cell_type": "code",
   "execution_count": 640,
   "metadata": {},
   "outputs": [
    {
     "data": {
      "text/plain": [
       "dict_keys(['no_batch', 'batch_norm'])"
      ]
     },
     "execution_count": 640,
     "metadata": {},
     "output_type": "execute_result"
    }
   ],
   "source": [
    "networks = {\n",
    "    'no_batch' : network1 ,\n",
    "    \"batch_norm\": network2\n",
    "}\n",
    "networks.keys()"
   ]
  },
  {
   "cell_type": "code",
   "execution_count": 643,
   "metadata": {},
   "outputs": [
    {
     "data": {
      "text/html": [
       "<div>\n",
       "<style scoped>\n",
       "    .dataframe tbody tr th:only-of-type {\n",
       "        vertical-align: middle;\n",
       "    }\n",
       "\n",
       "    .dataframe tbody tr th {\n",
       "        vertical-align: top;\n",
       "    }\n",
       "\n",
       "    .dataframe thead th {\n",
       "        text-align: right;\n",
       "    }\n",
       "</style>\n",
       "<table border=\"1\" class=\"dataframe\">\n",
       "  <thead>\n",
       "    <tr style=\"text-align: right;\">\n",
       "      <th></th>\n",
       "      <th>run</th>\n",
       "      <th>epoch</th>\n",
       "      <th>loss</th>\n",
       "      <th>accuracy</th>\n",
       "      <th>epoch duration</th>\n",
       "      <th>run duration</th>\n",
       "      <th>lr</th>\n",
       "      <th>batch_size</th>\n",
       "      <th>num_workers</th>\n",
       "      <th>trainset</th>\n",
       "      <th>network</th>\n",
       "    </tr>\n",
       "  </thead>\n",
       "  <tbody>\n",
       "    <tr>\n",
       "      <th>0</th>\n",
       "      <td>1</td>\n",
       "      <td>1</td>\n",
       "      <td>0.266706</td>\n",
       "      <td>0.902033</td>\n",
       "      <td>14.456736</td>\n",
       "      <td>15.964482</td>\n",
       "      <td>0.01</td>\n",
       "      <td>1000</td>\n",
       "      <td>1</td>\n",
       "      <td>normal</td>\n",
       "      <td>no_batch</td>\n",
       "    </tr>\n",
       "    <tr>\n",
       "      <th>1</th>\n",
       "      <td>1</td>\n",
       "      <td>2</td>\n",
       "      <td>0.255352</td>\n",
       "      <td>0.906200</td>\n",
       "      <td>14.104518</td>\n",
       "      <td>30.078030</td>\n",
       "      <td>0.01</td>\n",
       "      <td>1000</td>\n",
       "      <td>1</td>\n",
       "      <td>normal</td>\n",
       "      <td>no_batch</td>\n",
       "    </tr>\n",
       "    <tr>\n",
       "      <th>2</th>\n",
       "      <td>1</td>\n",
       "      <td>3</td>\n",
       "      <td>0.240037</td>\n",
       "      <td>0.910900</td>\n",
       "      <td>14.517347</td>\n",
       "      <td>44.603555</td>\n",
       "      <td>0.01</td>\n",
       "      <td>1000</td>\n",
       "      <td>1</td>\n",
       "      <td>normal</td>\n",
       "      <td>no_batch</td>\n",
       "    </tr>\n",
       "    <tr>\n",
       "      <th>3</th>\n",
       "      <td>1</td>\n",
       "      <td>4</td>\n",
       "      <td>0.236030</td>\n",
       "      <td>0.911433</td>\n",
       "      <td>14.550290</td>\n",
       "      <td>59.162822</td>\n",
       "      <td>0.01</td>\n",
       "      <td>1000</td>\n",
       "      <td>1</td>\n",
       "      <td>normal</td>\n",
       "      <td>no_batch</td>\n",
       "    </tr>\n",
       "    <tr>\n",
       "      <th>4</th>\n",
       "      <td>1</td>\n",
       "      <td>5</td>\n",
       "      <td>0.233873</td>\n",
       "      <td>0.912783</td>\n",
       "      <td>14.352612</td>\n",
       "      <td>73.525381</td>\n",
       "      <td>0.01</td>\n",
       "      <td>1000</td>\n",
       "      <td>1</td>\n",
       "      <td>normal</td>\n",
       "      <td>no_batch</td>\n",
       "    </tr>\n",
       "    <tr>\n",
       "      <th>5</th>\n",
       "      <td>2</td>\n",
       "      <td>1</td>\n",
       "      <td>0.170360</td>\n",
       "      <td>0.935300</td>\n",
       "      <td>13.503018</td>\n",
       "      <td>15.151994</td>\n",
       "      <td>0.01</td>\n",
       "      <td>1000</td>\n",
       "      <td>1</td>\n",
       "      <td>normal</td>\n",
       "      <td>batch_norm</td>\n",
       "    </tr>\n",
       "    <tr>\n",
       "      <th>6</th>\n",
       "      <td>2</td>\n",
       "      <td>2</td>\n",
       "      <td>0.150269</td>\n",
       "      <td>0.941417</td>\n",
       "      <td>12.477361</td>\n",
       "      <td>27.639329</td>\n",
       "      <td>0.01</td>\n",
       "      <td>1000</td>\n",
       "      <td>1</td>\n",
       "      <td>normal</td>\n",
       "      <td>batch_norm</td>\n",
       "    </tr>\n",
       "    <tr>\n",
       "      <th>7</th>\n",
       "      <td>2</td>\n",
       "      <td>3</td>\n",
       "      <td>0.140944</td>\n",
       "      <td>0.945617</td>\n",
       "      <td>12.994239</td>\n",
       "      <td>40.644539</td>\n",
       "      <td>0.01</td>\n",
       "      <td>1000</td>\n",
       "      <td>1</td>\n",
       "      <td>normal</td>\n",
       "      <td>batch_norm</td>\n",
       "    </tr>\n",
       "    <tr>\n",
       "      <th>8</th>\n",
       "      <td>2</td>\n",
       "      <td>4</td>\n",
       "      <td>0.133213</td>\n",
       "      <td>0.948833</td>\n",
       "      <td>14.575830</td>\n",
       "      <td>55.231340</td>\n",
       "      <td>0.01</td>\n",
       "      <td>1000</td>\n",
       "      <td>1</td>\n",
       "      <td>normal</td>\n",
       "      <td>batch_norm</td>\n",
       "    </tr>\n",
       "    <tr>\n",
       "      <th>9</th>\n",
       "      <td>2</td>\n",
       "      <td>5</td>\n",
       "      <td>0.128215</td>\n",
       "      <td>0.950700</td>\n",
       "      <td>14.129640</td>\n",
       "      <td>69.372456</td>\n",
       "      <td>0.01</td>\n",
       "      <td>1000</td>\n",
       "      <td>1</td>\n",
       "      <td>normal</td>\n",
       "      <td>batch_norm</td>\n",
       "    </tr>\n",
       "  </tbody>\n",
       "</table>\n",
       "</div>"
      ],
      "text/plain": [
       "   run  epoch      loss  accuracy  epoch duration  run duration    lr  \\\n",
       "0    1      1  0.266706  0.902033       14.456736     15.964482  0.01   \n",
       "1    1      2  0.255352  0.906200       14.104518     30.078030  0.01   \n",
       "2    1      3  0.240037  0.910900       14.517347     44.603555  0.01   \n",
       "3    1      4  0.236030  0.911433       14.550290     59.162822  0.01   \n",
       "4    1      5  0.233873  0.912783       14.352612     73.525381  0.01   \n",
       "5    2      1  0.170360  0.935300       13.503018     15.151994  0.01   \n",
       "6    2      2  0.150269  0.941417       12.477361     27.639329  0.01   \n",
       "7    2      3  0.140944  0.945617       12.994239     40.644539  0.01   \n",
       "8    2      4  0.133213  0.948833       14.575830     55.231340  0.01   \n",
       "9    2      5  0.128215  0.950700       14.129640     69.372456  0.01   \n",
       "\n",
       "   batch_size  num_workers trainset     network  \n",
       "0        1000            1   normal    no_batch  \n",
       "1        1000            1   normal    no_batch  \n",
       "2        1000            1   normal    no_batch  \n",
       "3        1000            1   normal    no_batch  \n",
       "4        1000            1   normal    no_batch  \n",
       "5        1000            1   normal  batch_norm  \n",
       "6        1000            1   normal  batch_norm  \n",
       "7        1000            1   normal  batch_norm  \n",
       "8        1000            1   normal  batch_norm  \n",
       "9        1000            1   normal  batch_norm  "
      ]
     },
     "metadata": {},
     "output_type": "display_data"
    }
   ],
   "source": [
    "parameters = dict (\n",
    "    lr = [0.01 ],\n",
    "    batch_size = [1000],\n",
    "    num_workers =[1],\n",
    "    trainset= ['normal'],\n",
    "    network = list (networks.keys())\n",
    "    \n",
    ")\n",
    "m = RunManger ()\n",
    "for run in RunBuilder.get_runs(parameters):\n",
    "    Networkk = networks[run.network]\n",
    "\n",
    "    loader = torch.utils.data.DataLoader(trainsets[run.trainset] , batch_size=run.batch_size , num_workers=run.num_workers)#Load \n",
    "    optimizer = optim .Adam (Networkk.parameters() , lr =run.lr)\n",
    "\n",
    "    m.begin_run (run , Networkk ,loader)\n",
    "    for epoch in range(5):\n",
    "        m.begin_epoch()\n",
    "\n",
    "        for batch in loader:\n",
    "            images , labels = batch\n",
    "\n",
    "            preds = Networkk(images) #pass Batch\n",
    "            loss = F.cross_entropy(preds , labels)#calc loss\n",
    "\n",
    "            optimizer.zero_grad() #not to accumilate\n",
    "            loss.backward() #grad\n",
    "            optimizer.step() #update weight\n",
    "\n",
    "            m.track_loss(loss)\n",
    "            m.track_num_correct(preds , labels)\n",
    "        m.end_epoch()\n",
    "    m.end_run()\n",
    "m.save('result')"
   ]
  },
  {
   "cell_type": "code",
   "execution_count": 644,
   "metadata": {
    "scrolled": true
   },
   "outputs": [
    {
     "data": {
      "text/html": [
       "<div>\n",
       "<style scoped>\n",
       "    .dataframe tbody tr th:only-of-type {\n",
       "        vertical-align: middle;\n",
       "    }\n",
       "\n",
       "    .dataframe tbody tr th {\n",
       "        vertical-align: top;\n",
       "    }\n",
       "\n",
       "    .dataframe thead th {\n",
       "        text-align: right;\n",
       "    }\n",
       "</style>\n",
       "<table border=\"1\" class=\"dataframe\">\n",
       "  <thead>\n",
       "    <tr style=\"text-align: right;\">\n",
       "      <th></th>\n",
       "      <th>run</th>\n",
       "      <th>epoch</th>\n",
       "      <th>loss</th>\n",
       "      <th>accuracy</th>\n",
       "      <th>epoch duration</th>\n",
       "      <th>run duration</th>\n",
       "      <th>lr</th>\n",
       "      <th>batch_size</th>\n",
       "      <th>num_workers</th>\n",
       "      <th>trainset</th>\n",
       "      <th>network</th>\n",
       "    </tr>\n",
       "  </thead>\n",
       "  <tbody>\n",
       "    <tr>\n",
       "      <th>9</th>\n",
       "      <td>2</td>\n",
       "      <td>5</td>\n",
       "      <td>0.128215</td>\n",
       "      <td>0.950700</td>\n",
       "      <td>14.129640</td>\n",
       "      <td>69.372456</td>\n",
       "      <td>0.01</td>\n",
       "      <td>1000</td>\n",
       "      <td>1</td>\n",
       "      <td>normal</td>\n",
       "      <td>batch_norm</td>\n",
       "    </tr>\n",
       "    <tr>\n",
       "      <th>8</th>\n",
       "      <td>2</td>\n",
       "      <td>4</td>\n",
       "      <td>0.133213</td>\n",
       "      <td>0.948833</td>\n",
       "      <td>14.575830</td>\n",
       "      <td>55.231340</td>\n",
       "      <td>0.01</td>\n",
       "      <td>1000</td>\n",
       "      <td>1</td>\n",
       "      <td>normal</td>\n",
       "      <td>batch_norm</td>\n",
       "    </tr>\n",
       "    <tr>\n",
       "      <th>7</th>\n",
       "      <td>2</td>\n",
       "      <td>3</td>\n",
       "      <td>0.140944</td>\n",
       "      <td>0.945617</td>\n",
       "      <td>12.994239</td>\n",
       "      <td>40.644539</td>\n",
       "      <td>0.01</td>\n",
       "      <td>1000</td>\n",
       "      <td>1</td>\n",
       "      <td>normal</td>\n",
       "      <td>batch_norm</td>\n",
       "    </tr>\n",
       "    <tr>\n",
       "      <th>6</th>\n",
       "      <td>2</td>\n",
       "      <td>2</td>\n",
       "      <td>0.150269</td>\n",
       "      <td>0.941417</td>\n",
       "      <td>12.477361</td>\n",
       "      <td>27.639329</td>\n",
       "      <td>0.01</td>\n",
       "      <td>1000</td>\n",
       "      <td>1</td>\n",
       "      <td>normal</td>\n",
       "      <td>batch_norm</td>\n",
       "    </tr>\n",
       "    <tr>\n",
       "      <th>5</th>\n",
       "      <td>2</td>\n",
       "      <td>1</td>\n",
       "      <td>0.170360</td>\n",
       "      <td>0.935300</td>\n",
       "      <td>13.503018</td>\n",
       "      <td>15.151994</td>\n",
       "      <td>0.01</td>\n",
       "      <td>1000</td>\n",
       "      <td>1</td>\n",
       "      <td>normal</td>\n",
       "      <td>batch_norm</td>\n",
       "    </tr>\n",
       "    <tr>\n",
       "      <th>4</th>\n",
       "      <td>1</td>\n",
       "      <td>5</td>\n",
       "      <td>0.233873</td>\n",
       "      <td>0.912783</td>\n",
       "      <td>14.352612</td>\n",
       "      <td>73.525381</td>\n",
       "      <td>0.01</td>\n",
       "      <td>1000</td>\n",
       "      <td>1</td>\n",
       "      <td>normal</td>\n",
       "      <td>no_batch</td>\n",
       "    </tr>\n",
       "    <tr>\n",
       "      <th>3</th>\n",
       "      <td>1</td>\n",
       "      <td>4</td>\n",
       "      <td>0.236030</td>\n",
       "      <td>0.911433</td>\n",
       "      <td>14.550290</td>\n",
       "      <td>59.162822</td>\n",
       "      <td>0.01</td>\n",
       "      <td>1000</td>\n",
       "      <td>1</td>\n",
       "      <td>normal</td>\n",
       "      <td>no_batch</td>\n",
       "    </tr>\n",
       "    <tr>\n",
       "      <th>2</th>\n",
       "      <td>1</td>\n",
       "      <td>3</td>\n",
       "      <td>0.240037</td>\n",
       "      <td>0.910900</td>\n",
       "      <td>14.517347</td>\n",
       "      <td>44.603555</td>\n",
       "      <td>0.01</td>\n",
       "      <td>1000</td>\n",
       "      <td>1</td>\n",
       "      <td>normal</td>\n",
       "      <td>no_batch</td>\n",
       "    </tr>\n",
       "    <tr>\n",
       "      <th>1</th>\n",
       "      <td>1</td>\n",
       "      <td>2</td>\n",
       "      <td>0.255352</td>\n",
       "      <td>0.906200</td>\n",
       "      <td>14.104518</td>\n",
       "      <td>30.078030</td>\n",
       "      <td>0.01</td>\n",
       "      <td>1000</td>\n",
       "      <td>1</td>\n",
       "      <td>normal</td>\n",
       "      <td>no_batch</td>\n",
       "    </tr>\n",
       "    <tr>\n",
       "      <th>0</th>\n",
       "      <td>1</td>\n",
       "      <td>1</td>\n",
       "      <td>0.266706</td>\n",
       "      <td>0.902033</td>\n",
       "      <td>14.456736</td>\n",
       "      <td>15.964482</td>\n",
       "      <td>0.01</td>\n",
       "      <td>1000</td>\n",
       "      <td>1</td>\n",
       "      <td>normal</td>\n",
       "      <td>no_batch</td>\n",
       "    </tr>\n",
       "  </tbody>\n",
       "</table>\n",
       "</div>"
      ],
      "text/plain": [
       "   run  epoch      loss  accuracy  epoch duration  run duration    lr  \\\n",
       "9    2      5  0.128215  0.950700       14.129640     69.372456  0.01   \n",
       "8    2      4  0.133213  0.948833       14.575830     55.231340  0.01   \n",
       "7    2      3  0.140944  0.945617       12.994239     40.644539  0.01   \n",
       "6    2      2  0.150269  0.941417       12.477361     27.639329  0.01   \n",
       "5    2      1  0.170360  0.935300       13.503018     15.151994  0.01   \n",
       "4    1      5  0.233873  0.912783       14.352612     73.525381  0.01   \n",
       "3    1      4  0.236030  0.911433       14.550290     59.162822  0.01   \n",
       "2    1      3  0.240037  0.910900       14.517347     44.603555  0.01   \n",
       "1    1      2  0.255352  0.906200       14.104518     30.078030  0.01   \n",
       "0    1      1  0.266706  0.902033       14.456736     15.964482  0.01   \n",
       "\n",
       "   batch_size  num_workers trainset     network  \n",
       "9        1000            1   normal  batch_norm  \n",
       "8        1000            1   normal  batch_norm  \n",
       "7        1000            1   normal  batch_norm  \n",
       "6        1000            1   normal  batch_norm  \n",
       "5        1000            1   normal  batch_norm  \n",
       "4        1000            1   normal    no_batch  \n",
       "3        1000            1   normal    no_batch  \n",
       "2        1000            1   normal    no_batch  \n",
       "1        1000            1   normal    no_batch  \n",
       "0        1000            1   normal    no_batch  "
      ]
     },
     "execution_count": 644,
     "metadata": {},
     "output_type": "execute_result"
    }
   ],
   "source": [
    "pd.DataFrame.from_dict(m.run_data).sort_values('accuracy' , ascending = False)"
   ]
  },
  {
   "cell_type": "markdown",
   "metadata": {},
   "source": [
    "## Training Multiple Networks"
   ]
  },
  {
   "cell_type": "code",
   "execution_count": 648,
   "metadata": {},
   "outputs": [],
   "source": [
    "class NetworkFactory():\n",
    "    @staticmethod\n",
    "    def get_network(name):\n",
    "        if name == 'network':\n",
    "            torch.manual_seed(50)\n",
    "            return nn.Sequential(\n",
    "                nn.Conv2d(in_channels=1, out_channels=6, kernel_size=5)\n",
    "                , nn.ReLU()\n",
    "                , nn.MaxPool2d(kernel_size=2, stride=2)\n",
    "                , nn.Conv2d(in_channels=6, out_channels=12, kernel_size=5)\n",
    "                , nn.ReLU()\n",
    "                , nn.MaxPool2d(kernel_size=2, stride=2)\n",
    "                , nn.Flatten(start_dim=1)  \n",
    "                , nn.Linear(in_features=12*4*4, out_features=120)\n",
    "                , nn.ReLU()\n",
    "                , nn.Linear(in_features=120, out_features=60)\n",
    "                , nn.ReLU()\n",
    "                , nn.Linear(in_features=60, out_features=10)\n",
    "            )\n",
    "        else:\n",
    "            return None"
   ]
  },
  {
   "cell_type": "code",
   "execution_count": 649,
   "metadata": {},
   "outputs": [
    {
     "data": {
      "text/html": [
       "<div>\n",
       "<style scoped>\n",
       "    .dataframe tbody tr th:only-of-type {\n",
       "        vertical-align: middle;\n",
       "    }\n",
       "\n",
       "    .dataframe tbody tr th {\n",
       "        vertical-align: top;\n",
       "    }\n",
       "\n",
       "    .dataframe thead th {\n",
       "        text-align: right;\n",
       "    }\n",
       "</style>\n",
       "<table border=\"1\" class=\"dataframe\">\n",
       "  <thead>\n",
       "    <tr style=\"text-align: right;\">\n",
       "      <th></th>\n",
       "      <th>run</th>\n",
       "      <th>epoch</th>\n",
       "      <th>loss</th>\n",
       "      <th>accuracy</th>\n",
       "      <th>epoch duration</th>\n",
       "      <th>run duration</th>\n",
       "      <th>lr</th>\n",
       "      <th>batch_size</th>\n",
       "      <th>num_workers</th>\n",
       "      <th>trainset</th>\n",
       "      <th>network</th>\n",
       "    </tr>\n",
       "  </thead>\n",
       "  <tbody>\n",
       "    <tr>\n",
       "      <th>0</th>\n",
       "      <td>1</td>\n",
       "      <td>1</td>\n",
       "      <td>0.901361</td>\n",
       "      <td>0.666083</td>\n",
       "      <td>13.513345</td>\n",
       "      <td>15.117229</td>\n",
       "      <td>0.01</td>\n",
       "      <td>1000</td>\n",
       "      <td>1</td>\n",
       "      <td>normal</td>\n",
       "      <td>network</td>\n",
       "    </tr>\n",
       "    <tr>\n",
       "      <th>1</th>\n",
       "      <td>1</td>\n",
       "      <td>2</td>\n",
       "      <td>0.477679</td>\n",
       "      <td>0.819450</td>\n",
       "      <td>12.925820</td>\n",
       "      <td>28.054020</td>\n",
       "      <td>0.01</td>\n",
       "      <td>1000</td>\n",
       "      <td>1</td>\n",
       "      <td>normal</td>\n",
       "      <td>network</td>\n",
       "    </tr>\n",
       "    <tr>\n",
       "      <th>2</th>\n",
       "      <td>1</td>\n",
       "      <td>3</td>\n",
       "      <td>0.394250</td>\n",
       "      <td>0.854967</td>\n",
       "      <td>14.535953</td>\n",
       "      <td>42.598966</td>\n",
       "      <td>0.01</td>\n",
       "      <td>1000</td>\n",
       "      <td>1</td>\n",
       "      <td>normal</td>\n",
       "      <td>network</td>\n",
       "    </tr>\n",
       "    <tr>\n",
       "      <th>3</th>\n",
       "      <td>1</td>\n",
       "      <td>4</td>\n",
       "      <td>0.354669</td>\n",
       "      <td>0.868567</td>\n",
       "      <td>15.376772</td>\n",
       "      <td>57.986723</td>\n",
       "      <td>0.01</td>\n",
       "      <td>1000</td>\n",
       "      <td>1</td>\n",
       "      <td>normal</td>\n",
       "      <td>network</td>\n",
       "    </tr>\n",
       "    <tr>\n",
       "      <th>4</th>\n",
       "      <td>1</td>\n",
       "      <td>5</td>\n",
       "      <td>0.330811</td>\n",
       "      <td>0.876133</td>\n",
       "      <td>14.299335</td>\n",
       "      <td>72.296034</td>\n",
       "      <td>0.01</td>\n",
       "      <td>1000</td>\n",
       "      <td>1</td>\n",
       "      <td>normal</td>\n",
       "      <td>network</td>\n",
       "    </tr>\n",
       "  </tbody>\n",
       "</table>\n",
       "</div>"
      ],
      "text/plain": [
       "   run  epoch      loss  accuracy  epoch duration  run duration    lr  \\\n",
       "0    1      1  0.901361  0.666083       13.513345     15.117229  0.01   \n",
       "1    1      2  0.477679  0.819450       12.925820     28.054020  0.01   \n",
       "2    1      3  0.394250  0.854967       14.535953     42.598966  0.01   \n",
       "3    1      4  0.354669  0.868567       15.376772     57.986723  0.01   \n",
       "4    1      5  0.330811  0.876133       14.299335     72.296034  0.01   \n",
       "\n",
       "   batch_size  num_workers trainset  network  \n",
       "0        1000            1   normal  network  \n",
       "1        1000            1   normal  network  \n",
       "2        1000            1   normal  network  \n",
       "3        1000            1   normal  network  \n",
       "4        1000            1   normal  network  "
      ]
     },
     "metadata": {},
     "output_type": "display_data"
    }
   ],
   "source": [
    "parameters = dict (\n",
    "    lr = [0.01 ],\n",
    "    batch_size = [1000],\n",
    "    num_workers =[1],\n",
    "    trainset= ['normal'],\n",
    "    network = ['network']\n",
    "    \n",
    ")\n",
    "m = RunManger ()\n",
    "for run in RunBuilder.get_runs(parameters):\n",
    "    Networkk = NetworkFactory.get_network(run.network)\n",
    "\n",
    "    loader = torch.utils.data.DataLoader(trainsets[run.trainset] , batch_size=run.batch_size , num_workers=run.num_workers)#Load \n",
    "    optimizer = optim .Adam (Networkk.parameters() , lr =run.lr)\n",
    "\n",
    "    m.begin_run (run , Networkk ,loader)\n",
    "    for epoch in range(5):\n",
    "        m.begin_epoch()\n",
    "\n",
    "        for batch in loader:\n",
    "            images , labels = batch\n",
    "\n",
    "            preds = Networkk(images) #pass Batch\n",
    "            loss = F.cross_entropy(preds , labels)#calc loss\n",
    "\n",
    "            optimizer.zero_grad() #not to accumilate\n",
    "            loss.backward() #grad\n",
    "            optimizer.step() #update weight\n",
    "\n",
    "            m.track_loss(loss)\n",
    "            m.track_num_correct(preds , labels)\n",
    "        m.end_epoch()\n",
    "    m.end_run()\n",
    "m.save('result')"
   ]
  },
  {
   "cell_type": "code",
   "execution_count": null,
   "metadata": {},
   "outputs": [],
   "source": []
  }
 ],
 "metadata": {
  "kernelspec": {
   "display_name": "Python 3",
   "language": "python",
   "name": "python3"
  },
  "language_info": {
   "codemirror_mode": {
    "name": "ipython",
    "version": 3
   },
   "file_extension": ".py",
   "mimetype": "text/x-python",
   "name": "python",
   "nbconvert_exporter": "python",
   "pygments_lexer": "ipython3",
   "version": "3.7.6"
  }
 },
 "nbformat": 4,
 "nbformat_minor": 4
}
